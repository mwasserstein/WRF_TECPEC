{
 "cells": [
  {
   "cell_type": "code",
   "execution_count": 10,
   "id": "6228670c-45a9-429b-96c2-b1a7ecd9e425",
   "metadata": {},
   "outputs": [],
   "source": [
    "# Michael Wasserstein\n",
    "# Plot_Post_Frontal_Event_Radar_Loop.ipynb\n",
    "# 8/8/2023\n",
    "# Script will plot a loop of the radar data for the event of interest so you can generate a loop of it\n",
    "\n",
    "####### Usage #########\n",
    "# Conda environment - Radar_env_2\n",
    "\n",
    "import boto3\n",
    "import botocore\n",
    "import boto3\n",
    "from boto.s3.connection import S3Connection \n",
    "import datetime\n",
    "import tempfile\n",
    "import pyart\n",
    "\n",
    "from mpl_toolkits.axes_grid1 import make_axes_locatable\n",
    "from matplotlib.cm import ScalarMappable\n",
    "import matplotlib.patheffects as PathEffects\n",
    "import matplotlib.cm as cm\n",
    "import matplotlib.colors as colors\n",
    "import matplotlib.pyplot as plt\n",
    "\n",
    "import cartopy.crs as ccrs\n",
    "import cartopy.feature as cfeature\n",
    "import geopandas\n",
    "from cartopy.io.img_tiles import GoogleTiles\n",
    "from shapely import geometry\n",
    "from shapely.geometry import Point, Polygon\n",
    "import xarray as xr\n",
    "\n",
    "from cartopy import crs\n",
    "from cartopy.feature import NaturalEarthFeature, COLORS\n",
    "from netCDF4 import Dataset\n",
    "from wrf import (getvar, to_np, get_cartopy, latlon_coords, vertcross,\n",
    "                 cartopy_xlim, cartopy_ylim, interpline, CoordPair)\n",
    "import wrf\n",
    "import urllib.request\n",
    "import json\n",
    "import math\n",
    "import os, sys\n",
    "sys.path.append('/uufs/chpc.utah.edu/common/home/u1371671/')\n",
    "\n",
    "from Useful_Python_Functions import arrow_points, truncate_colormap\n",
    "from map_script_2 import *\n",
    "import pyproj\n",
    "\n",
    "path = 12\n",
    "run_number = '12'\n",
    "# paths for data\n",
    "base = '/uufs/chpc.utah.edu/common/home/'\n",
    "home = base + 'u1371671/'\n",
    "Fig_dir = home + 'WRF/Figures_{}/wrf_{}/Accumulated_Precipitation/'.format(path,run_number)\n",
    "KMTX_path = '/uufs/chpc.utah.edu/common/home/steenburgh-group10/michael/Radar/KMTX_lvl2_download2/2019/03/'\n",
    "KMTX_files = glob.glob(KMTX_path + '*')\n",
    "\n",
    "station = 'CLN'\n",
    "\n",
    "# User Inputs\n",
    "gatefilter = None\n",
    "field = 'reflectivity'"
   ]
  },
  {
   "cell_type": "code",
   "execution_count": 2,
   "id": "38160b24-4b76-4f7c-a96b-0f53ad6de36b",
   "metadata": {},
   "outputs": [],
   "source": [
    "# Vasiloff z-s relationship\n",
    "\n",
    "# These results indicate that the new SAA will be\n",
    "# an overall improvement to WSR-88D wintertime\n",
    "# precipitation estimates in complex terrain. The primary\n",
    "# benefit will be through the added flexibility of changing\n",
    "# the Z-R/S relation depending on the situation. After the\n",
    "# SAA is installed, it is recommended that the relation\n",
    "# Z=75S2\n",
    "#  be used everywhere with additional corrections\n",
    "# previously described for mountains and valleys within\n",
    "# ~100 km of the radar. "
   ]
  },
  {
   "cell_type": "code",
   "execution_count": 3,
   "id": "6bbd9cd1-7bf8-4823-9fd2-68099058d64a",
   "metadata": {},
   "outputs": [],
   "source": [
    "# Subset for only files during event\n",
    "KMTX_files_event = []\n",
    "for file in KMTX_files:\n",
    "    file_date = datetime.datetime.strptime((file.split('/')[-1].split('X')[-1].split('_V')[0]), '%Y%m%d_%H%M%S')\n",
    "    if (file_date >= datetime.datetime(2019,3,22,12)) & (file_date <= datetime.datetime(2019,3,23,6)):\n",
    "        KMTX_files_event.append(file)"
   ]
  },
  {
   "cell_type": "code",
   "execution_count": 4,
   "id": "02e395dd-63e8-43fc-9296-720a08b6bacc",
   "metadata": {},
   "outputs": [],
   "source": [
    "######################## Plotting Stuff #####################\n",
    "# Get colormap\n",
    "cmap = plt.get_cmap('pyart_LangRainbow12')  # Radar colormap - colorblind friendly\n",
    "cmap.set_under('none')\n",
    "\n",
    "topo_levels = np.arange(1200,3000,500) # specify levels for plotting topograpy as a contour\n",
    "\n",
    "datacrs = ccrs.PlateCarree()"
   ]
  },
  {
   "cell_type": "code",
   "execution_count": 5,
   "id": "154c61cb-d261-4f6b-9397-31e60c8fd7a3",
   "metadata": {
    "tags": []
   },
   "outputs": [
    {
     "name": "stdout",
     "output_type": "stream",
     "text": [
      "2019-03-23 06:00:00+00:00 20190322120150\n",
      "335.0\n",
      "Sweep for 0.5 degree radar scan: 0\n"
     ]
    },
    {
     "name": "stderr",
     "output_type": "stream",
     "text": [
      "/scratch/local/u1371671/1878577/ipykernel_1691042/29015199.py:70: RuntimeWarning: invalid value encountered in sqrt\n",
      "  p_rate = np.sqrt(z.data / 75)\n"
     ]
    },
    {
     "name": "stdout",
     "output_type": "stream",
     "text": [
      "2019-03-22 12:01:50+00:00 20190322120724\n",
      "334.0\n",
      "Sweep for 0.5 degree radar scan: 0\n"
     ]
    },
    {
     "name": "stderr",
     "output_type": "stream",
     "text": [
      "/scratch/local/u1371671/1878577/ipykernel_1691042/29015199.py:70: RuntimeWarning: invalid value encountered in sqrt\n",
      "  p_rate = np.sqrt(z.data / 75)\n"
     ]
    },
    {
     "name": "stdout",
     "output_type": "stream",
     "text": [
      "2019-03-22 12:07:24+00:00 20190322121300\n",
      "336.0\n",
      "Sweep for 0.5 degree radar scan: 0\n"
     ]
    },
    {
     "name": "stderr",
     "output_type": "stream",
     "text": [
      "/scratch/local/u1371671/1878577/ipykernel_1691042/29015199.py:70: RuntimeWarning: invalid value encountered in sqrt\n",
      "  p_rate = np.sqrt(z.data / 75)\n"
     ]
    },
    {
     "name": "stdout",
     "output_type": "stream",
     "text": [
      "2019-03-22 12:13:00+00:00 20190322121834\n",
      "334.0\n",
      "Sweep for 0.5 degree radar scan: 0\n"
     ]
    },
    {
     "name": "stderr",
     "output_type": "stream",
     "text": [
      "/scratch/local/u1371671/1878577/ipykernel_1691042/29015199.py:70: RuntimeWarning: invalid value encountered in sqrt\n",
      "  p_rate = np.sqrt(z.data / 75)\n"
     ]
    },
    {
     "name": "stdout",
     "output_type": "stream",
     "text": [
      "2019-03-22 12:18:34+00:00 20190322122409\n",
      "335.0\n",
      "Sweep for 0.5 degree radar scan: 0\n"
     ]
    },
    {
     "name": "stderr",
     "output_type": "stream",
     "text": [
      "/scratch/local/u1371671/1878577/ipykernel_1691042/29015199.py:70: RuntimeWarning: invalid value encountered in sqrt\n",
      "  p_rate = np.sqrt(z.data / 75)\n"
     ]
    },
    {
     "name": "stdout",
     "output_type": "stream",
     "text": [
      "2019-03-22 12:24:09+00:00 20190322122944\n",
      "335.0\n",
      "Sweep for 0.5 degree radar scan: 0\n"
     ]
    },
    {
     "name": "stderr",
     "output_type": "stream",
     "text": [
      "/scratch/local/u1371671/1878577/ipykernel_1691042/29015199.py:70: RuntimeWarning: invalid value encountered in sqrt\n",
      "  p_rate = np.sqrt(z.data / 75)\n"
     ]
    },
    {
     "name": "stdout",
     "output_type": "stream",
     "text": [
      "2019-03-22 12:29:44+00:00 20190322123520\n",
      "336.0\n",
      "Sweep for 0.5 degree radar scan: 0\n"
     ]
    },
    {
     "name": "stderr",
     "output_type": "stream",
     "text": [
      "/scratch/local/u1371671/1878577/ipykernel_1691042/29015199.py:70: RuntimeWarning: invalid value encountered in sqrt\n",
      "  p_rate = np.sqrt(z.data / 75)\n"
     ]
    },
    {
     "name": "stdout",
     "output_type": "stream",
     "text": [
      "2019-03-22 12:35:20+00:00 20190322124055\n",
      "335.0\n",
      "Sweep for 0.5 degree radar scan: 0\n"
     ]
    },
    {
     "name": "stderr",
     "output_type": "stream",
     "text": [
      "/scratch/local/u1371671/1878577/ipykernel_1691042/29015199.py:70: RuntimeWarning: invalid value encountered in sqrt\n",
      "  p_rate = np.sqrt(z.data / 75)\n"
     ]
    },
    {
     "name": "stdout",
     "output_type": "stream",
     "text": [
      "2019-03-22 12:40:55+00:00 20190322124630\n",
      "335.0\n",
      "Sweep for 0.5 degree radar scan: 0\n"
     ]
    },
    {
     "name": "stderr",
     "output_type": "stream",
     "text": [
      "/scratch/local/u1371671/1878577/ipykernel_1691042/29015199.py:70: RuntimeWarning: invalid value encountered in sqrt\n",
      "  p_rate = np.sqrt(z.data / 75)\n"
     ]
    },
    {
     "name": "stdout",
     "output_type": "stream",
     "text": [
      "2019-03-22 12:46:30+00:00 20190322125205\n",
      "335.0\n",
      "Sweep for 0.5 degree radar scan: 0\n"
     ]
    },
    {
     "name": "stderr",
     "output_type": "stream",
     "text": [
      "/scratch/local/u1371671/1878577/ipykernel_1691042/29015199.py:70: RuntimeWarning: invalid value encountered in sqrt\n",
      "  p_rate = np.sqrt(z.data / 75)\n"
     ]
    },
    {
     "name": "stdout",
     "output_type": "stream",
     "text": [
      "2019-03-22 12:52:05+00:00 20190322125741\n",
      "336.0\n",
      "Sweep for 0.5 degree radar scan: 0\n"
     ]
    },
    {
     "name": "stderr",
     "output_type": "stream",
     "text": [
      "/scratch/local/u1371671/1878577/ipykernel_1691042/29015199.py:70: RuntimeWarning: invalid value encountered in sqrt\n",
      "  p_rate = np.sqrt(z.data / 75)\n"
     ]
    },
    {
     "name": "stdout",
     "output_type": "stream",
     "text": [
      "2019-03-22 12:57:41+00:00 20190322130315\n",
      "334.0\n",
      "Sweep for 0.5 degree radar scan: 0\n"
     ]
    },
    {
     "name": "stderr",
     "output_type": "stream",
     "text": [
      "/scratch/local/u1371671/1878577/ipykernel_1691042/29015199.py:70: RuntimeWarning: invalid value encountered in sqrt\n",
      "  p_rate = np.sqrt(z.data / 75)\n"
     ]
    },
    {
     "name": "stdout",
     "output_type": "stream",
     "text": [
      "2019-03-22 13:03:15+00:00 20190322130850\n",
      "335.0\n",
      "Sweep for 0.5 degree radar scan: 0\n"
     ]
    },
    {
     "name": "stderr",
     "output_type": "stream",
     "text": [
      "/scratch/local/u1371671/1878577/ipykernel_1691042/29015199.py:70: RuntimeWarning: invalid value encountered in sqrt\n",
      "  p_rate = np.sqrt(z.data / 75)\n"
     ]
    },
    {
     "name": "stdout",
     "output_type": "stream",
     "text": [
      "2019-03-22 13:08:50+00:00 20190322131440\n",
      "350.0\n",
      "Sweep for 0.5 degree radar scan: 0\n"
     ]
    },
    {
     "name": "stderr",
     "output_type": "stream",
     "text": [
      "/scratch/local/u1371671/1878577/ipykernel_1691042/29015199.py:70: RuntimeWarning: invalid value encountered in sqrt\n",
      "  p_rate = np.sqrt(z.data / 75)\n"
     ]
    },
    {
     "name": "stdout",
     "output_type": "stream",
     "text": [
      "2019-03-22 13:14:40+00:00 20190322132015\n",
      "335.0\n",
      "Sweep for 0.5 degree radar scan: 0\n"
     ]
    },
    {
     "name": "stderr",
     "output_type": "stream",
     "text": [
      "/scratch/local/u1371671/1878577/ipykernel_1691042/29015199.py:70: RuntimeWarning: invalid value encountered in sqrt\n",
      "  p_rate = np.sqrt(z.data / 75)\n"
     ]
    },
    {
     "name": "stdout",
     "output_type": "stream",
     "text": [
      "2019-03-22 13:20:15+00:00 20190322132549\n",
      "334.0\n",
      "Sweep for 0.5 degree radar scan: 0\n"
     ]
    },
    {
     "name": "stderr",
     "output_type": "stream",
     "text": [
      "/scratch/local/u1371671/1878577/ipykernel_1691042/29015199.py:70: RuntimeWarning: invalid value encountered in sqrt\n",
      "  p_rate = np.sqrt(z.data / 75)\n"
     ]
    },
    {
     "name": "stdout",
     "output_type": "stream",
     "text": [
      "2019-03-22 13:25:49+00:00 20190322133125\n",
      "336.0\n",
      "Sweep for 0.5 degree radar scan: 0\n"
     ]
    },
    {
     "name": "stderr",
     "output_type": "stream",
     "text": [
      "/scratch/local/u1371671/1878577/ipykernel_1691042/29015199.py:70: RuntimeWarning: invalid value encountered in sqrt\n",
      "  p_rate = np.sqrt(z.data / 75)\n"
     ]
    },
    {
     "name": "stdout",
     "output_type": "stream",
     "text": [
      "2019-03-22 13:31:25+00:00 20190322133659\n",
      "334.0\n",
      "Sweep for 0.5 degree radar scan: 0\n"
     ]
    },
    {
     "name": "stderr",
     "output_type": "stream",
     "text": [
      "/scratch/local/u1371671/1878577/ipykernel_1691042/29015199.py:70: RuntimeWarning: invalid value encountered in sqrt\n",
      "  p_rate = np.sqrt(z.data / 75)\n"
     ]
    },
    {
     "name": "stdout",
     "output_type": "stream",
     "text": [
      "2019-03-22 13:36:59+00:00 20190322134235\n",
      "336.0\n",
      "Sweep for 0.5 degree radar scan: 0\n"
     ]
    },
    {
     "name": "stderr",
     "output_type": "stream",
     "text": [
      "/scratch/local/u1371671/1878577/ipykernel_1691042/29015199.py:70: RuntimeWarning: invalid value encountered in sqrt\n",
      "  p_rate = np.sqrt(z.data / 75)\n"
     ]
    },
    {
     "name": "stdout",
     "output_type": "stream",
     "text": [
      "2019-03-22 13:42:35+00:00 20190322134825\n",
      "350.0\n",
      "Sweep for 0.5 degree radar scan: 0\n"
     ]
    },
    {
     "name": "stderr",
     "output_type": "stream",
     "text": [
      "/scratch/local/u1371671/1878577/ipykernel_1691042/29015199.py:70: RuntimeWarning: invalid value encountered in sqrt\n",
      "  p_rate = np.sqrt(z.data / 75)\n"
     ]
    },
    {
     "name": "stdout",
     "output_type": "stream",
     "text": [
      "2019-03-22 13:48:25+00:00 20190322135414\n",
      "349.0\n",
      "Sweep for 0.5 degree radar scan: 0\n"
     ]
    },
    {
     "name": "stderr",
     "output_type": "stream",
     "text": [
      "/scratch/local/u1371671/1878577/ipykernel_1691042/29015199.py:70: RuntimeWarning: invalid value encountered in sqrt\n",
      "  p_rate = np.sqrt(z.data / 75)\n"
     ]
    },
    {
     "name": "stdout",
     "output_type": "stream",
     "text": [
      "2019-03-22 13:54:14+00:00 20190322140034\n",
      "380.0\n",
      "Sweep for 0.5 degree radar scan: 0\n"
     ]
    },
    {
     "name": "stderr",
     "output_type": "stream",
     "text": [
      "/scratch/local/u1371671/1878577/ipykernel_1691042/29015199.py:70: RuntimeWarning: invalid value encountered in sqrt\n",
      "  p_rate = np.sqrt(z.data / 75)\n"
     ]
    },
    {
     "name": "stdout",
     "output_type": "stream",
     "text": [
      "2019-03-22 14:00:34+00:00 20190322140624\n",
      "350.0\n",
      "Sweep for 0.5 degree radar scan: 0\n"
     ]
    },
    {
     "name": "stderr",
     "output_type": "stream",
     "text": [
      "/scratch/local/u1371671/1878577/ipykernel_1691042/29015199.py:70: RuntimeWarning: invalid value encountered in sqrt\n",
      "  p_rate = np.sqrt(z.data / 75)\n"
     ]
    },
    {
     "name": "stdout",
     "output_type": "stream",
     "text": [
      "2019-03-22 14:06:24+00:00 20190322141215\n",
      "351.0\n",
      "Sweep for 0.5 degree radar scan: 0\n"
     ]
    },
    {
     "name": "stderr",
     "output_type": "stream",
     "text": [
      "/scratch/local/u1371671/1878577/ipykernel_1691042/29015199.py:70: RuntimeWarning: invalid value encountered in sqrt\n",
      "  p_rate = np.sqrt(z.data / 75)\n"
     ]
    },
    {
     "name": "stdout",
     "output_type": "stream",
     "text": [
      "2019-03-22 14:12:15+00:00 20190322141805\n",
      "350.0\n",
      "Sweep for 0.5 degree radar scan: 0\n"
     ]
    },
    {
     "name": "stderr",
     "output_type": "stream",
     "text": [
      "/scratch/local/u1371671/1878577/ipykernel_1691042/29015199.py:70: RuntimeWarning: invalid value encountered in sqrt\n",
      "  p_rate = np.sqrt(z.data / 75)\n"
     ]
    },
    {
     "name": "stdout",
     "output_type": "stream",
     "text": [
      "2019-03-22 14:18:05+00:00 20190322142355\n",
      "350.0\n",
      "Sweep for 0.5 degree radar scan: 0\n"
     ]
    },
    {
     "name": "stderr",
     "output_type": "stream",
     "text": [
      "/scratch/local/u1371671/1878577/ipykernel_1691042/29015199.py:70: RuntimeWarning: invalid value encountered in sqrt\n",
      "  p_rate = np.sqrt(z.data / 75)\n"
     ]
    },
    {
     "name": "stdout",
     "output_type": "stream",
     "text": [
      "2019-03-22 14:23:55+00:00 20190322142945\n",
      "350.0\n",
      "Sweep for 0.5 degree radar scan: 0\n"
     ]
    },
    {
     "name": "stderr",
     "output_type": "stream",
     "text": [
      "/scratch/local/u1371671/1878577/ipykernel_1691042/29015199.py:70: RuntimeWarning: invalid value encountered in sqrt\n",
      "  p_rate = np.sqrt(z.data / 75)\n"
     ]
    },
    {
     "name": "stdout",
     "output_type": "stream",
     "text": [
      "2019-03-22 14:29:45+00:00 20190322143536\n",
      "351.0\n",
      "Sweep for 0.5 degree radar scan: 0\n"
     ]
    },
    {
     "name": "stderr",
     "output_type": "stream",
     "text": [
      "/scratch/local/u1371671/1878577/ipykernel_1691042/29015199.py:70: RuntimeWarning: invalid value encountered in sqrt\n",
      "  p_rate = np.sqrt(z.data / 75)\n"
     ]
    },
    {
     "name": "stdout",
     "output_type": "stream",
     "text": [
      "2019-03-22 14:35:36+00:00 20190322144125\n",
      "349.0\n",
      "Sweep for 0.5 degree radar scan: 0\n"
     ]
    },
    {
     "name": "stderr",
     "output_type": "stream",
     "text": [
      "/scratch/local/u1371671/1878577/ipykernel_1691042/29015199.py:70: RuntimeWarning: invalid value encountered in sqrt\n",
      "  p_rate = np.sqrt(z.data / 75)\n"
     ]
    },
    {
     "name": "stdout",
     "output_type": "stream",
     "text": [
      "2019-03-22 14:41:25+00:00 20190322144913\n",
      "468.0\n",
      "Sweep for 0.5 degree radar scan: 0\n"
     ]
    },
    {
     "name": "stderr",
     "output_type": "stream",
     "text": [
      "/scratch/local/u1371671/1878577/ipykernel_1691042/29015199.py:70: RuntimeWarning: invalid value encountered in sqrt\n",
      "  p_rate = np.sqrt(z.data / 75)\n"
     ]
    },
    {
     "name": "stdout",
     "output_type": "stream",
     "text": [
      "2019-03-22 14:49:13+00:00 20190322145503\n",
      "350.0\n",
      "Sweep for 0.5 degree radar scan: 0\n"
     ]
    },
    {
     "name": "stderr",
     "output_type": "stream",
     "text": [
      "/scratch/local/u1371671/1878577/ipykernel_1691042/29015199.py:70: RuntimeWarning: invalid value encountered in sqrt\n",
      "  p_rate = np.sqrt(z.data / 75)\n"
     ]
    },
    {
     "name": "stdout",
     "output_type": "stream",
     "text": [
      "2019-03-22 14:55:03+00:00 20190322150038\n",
      "335.0\n",
      "Sweep for 0.5 degree radar scan: 0\n"
     ]
    },
    {
     "name": "stderr",
     "output_type": "stream",
     "text": [
      "/scratch/local/u1371671/1878577/ipykernel_1691042/29015199.py:70: RuntimeWarning: invalid value encountered in sqrt\n",
      "  p_rate = np.sqrt(z.data / 75)\n"
     ]
    },
    {
     "name": "stdout",
     "output_type": "stream",
     "text": [
      "2019-03-22 15:00:38+00:00 20190322150613\n",
      "335.0\n",
      "Sweep for 0.5 degree radar scan: 0\n"
     ]
    },
    {
     "name": "stderr",
     "output_type": "stream",
     "text": [
      "/scratch/local/u1371671/1878577/ipykernel_1691042/29015199.py:70: RuntimeWarning: invalid value encountered in sqrt\n",
      "  p_rate = np.sqrt(z.data / 75)\n"
     ]
    },
    {
     "name": "stdout",
     "output_type": "stream",
     "text": [
      "2019-03-22 15:06:13+00:00 20190322151148\n",
      "335.0\n",
      "Sweep for 0.5 degree radar scan: 0\n"
     ]
    },
    {
     "name": "stderr",
     "output_type": "stream",
     "text": [
      "/scratch/local/u1371671/1878577/ipykernel_1691042/29015199.py:70: RuntimeWarning: invalid value encountered in sqrt\n",
      "  p_rate = np.sqrt(z.data / 75)\n"
     ]
    },
    {
     "name": "stdout",
     "output_type": "stream",
     "text": [
      "2019-03-22 15:11:48+00:00 20190322151723\n",
      "335.0\n",
      "Sweep for 0.5 degree radar scan: 0\n"
     ]
    },
    {
     "name": "stderr",
     "output_type": "stream",
     "text": [
      "/scratch/local/u1371671/1878577/ipykernel_1691042/29015199.py:70: RuntimeWarning: invalid value encountered in sqrt\n",
      "  p_rate = np.sqrt(z.data / 75)\n"
     ]
    },
    {
     "name": "stdout",
     "output_type": "stream",
     "text": [
      "2019-03-22 15:17:23+00:00 20190322152258\n",
      "335.0\n",
      "Sweep for 0.5 degree radar scan: 0\n"
     ]
    },
    {
     "name": "stderr",
     "output_type": "stream",
     "text": [
      "/scratch/local/u1371671/1878577/ipykernel_1691042/29015199.py:70: RuntimeWarning: invalid value encountered in sqrt\n",
      "  p_rate = np.sqrt(z.data / 75)\n"
     ]
    },
    {
     "name": "stdout",
     "output_type": "stream",
     "text": [
      "2019-03-22 15:22:58+00:00 20190322152833\n",
      "335.0\n",
      "Sweep for 0.5 degree radar scan: 0\n"
     ]
    },
    {
     "name": "stderr",
     "output_type": "stream",
     "text": [
      "/scratch/local/u1371671/1878577/ipykernel_1691042/29015199.py:70: RuntimeWarning: invalid value encountered in sqrt\n",
      "  p_rate = np.sqrt(z.data / 75)\n"
     ]
    },
    {
     "name": "stdout",
     "output_type": "stream",
     "text": [
      "2019-03-22 15:28:33+00:00 20190322153423\n",
      "350.0\n",
      "Sweep for 0.5 degree radar scan: 0\n"
     ]
    },
    {
     "name": "stderr",
     "output_type": "stream",
     "text": [
      "/scratch/local/u1371671/1878577/ipykernel_1691042/29015199.py:70: RuntimeWarning: invalid value encountered in sqrt\n",
      "  p_rate = np.sqrt(z.data / 75)\n"
     ]
    },
    {
     "name": "stdout",
     "output_type": "stream",
     "text": [
      "2019-03-22 15:34:23+00:00 20190322154014\n",
      "351.0\n",
      "Sweep for 0.5 degree radar scan: 0\n"
     ]
    },
    {
     "name": "stderr",
     "output_type": "stream",
     "text": [
      "/scratch/local/u1371671/1878577/ipykernel_1691042/29015199.py:70: RuntimeWarning: invalid value encountered in sqrt\n",
      "  p_rate = np.sqrt(z.data / 75)\n"
     ]
    },
    {
     "name": "stdout",
     "output_type": "stream",
     "text": [
      "2019-03-22 15:40:14+00:00 20190322154604\n",
      "350.0\n",
      "Sweep for 0.5 degree radar scan: 0\n"
     ]
    },
    {
     "name": "stderr",
     "output_type": "stream",
     "text": [
      "/scratch/local/u1371671/1878577/ipykernel_1691042/29015199.py:70: RuntimeWarning: invalid value encountered in sqrt\n",
      "  p_rate = np.sqrt(z.data / 75)\n"
     ]
    },
    {
     "name": "stdout",
     "output_type": "stream",
     "text": [
      "2019-03-22 15:46:04+00:00 20190322155155\n",
      "351.0\n",
      "Sweep for 0.5 degree radar scan: 0\n"
     ]
    },
    {
     "name": "stderr",
     "output_type": "stream",
     "text": [
      "/scratch/local/u1371671/1878577/ipykernel_1691042/29015199.py:70: RuntimeWarning: invalid value encountered in sqrt\n",
      "  p_rate = np.sqrt(z.data / 75)\n"
     ]
    },
    {
     "name": "stdout",
     "output_type": "stream",
     "text": [
      "2019-03-22 15:51:55+00:00 20190322155745\n",
      "350.0\n",
      "Sweep for 0.5 degree radar scan: 0\n"
     ]
    },
    {
     "name": "stderr",
     "output_type": "stream",
     "text": [
      "/scratch/local/u1371671/1878577/ipykernel_1691042/29015199.py:70: RuntimeWarning: invalid value encountered in sqrt\n",
      "  p_rate = np.sqrt(z.data / 75)\n"
     ]
    },
    {
     "name": "stdout",
     "output_type": "stream",
     "text": [
      "2019-03-22 15:57:45+00:00 20190322160335\n",
      "350.0\n",
      "Sweep for 0.5 degree radar scan: 0\n"
     ]
    },
    {
     "name": "stderr",
     "output_type": "stream",
     "text": [
      "/scratch/local/u1371671/1878577/ipykernel_1691042/29015199.py:70: RuntimeWarning: invalid value encountered in sqrt\n",
      "  p_rate = np.sqrt(z.data / 75)\n"
     ]
    },
    {
     "name": "stdout",
     "output_type": "stream",
     "text": [
      "2019-03-22 16:03:35+00:00 20190322160910\n",
      "335.0\n",
      "Sweep for 0.5 degree radar scan: 0\n"
     ]
    },
    {
     "name": "stderr",
     "output_type": "stream",
     "text": [
      "/scratch/local/u1371671/1878577/ipykernel_1691042/29015199.py:70: RuntimeWarning: invalid value encountered in sqrt\n",
      "  p_rate = np.sqrt(z.data / 75)\n"
     ]
    },
    {
     "name": "stdout",
     "output_type": "stream",
     "text": [
      "2019-03-22 16:09:10+00:00 20190322161445\n",
      "335.0\n",
      "Sweep for 0.5 degree radar scan: 0\n"
     ]
    },
    {
     "name": "stderr",
     "output_type": "stream",
     "text": [
      "/scratch/local/u1371671/1878577/ipykernel_1691042/29015199.py:70: RuntimeWarning: invalid value encountered in sqrt\n",
      "  p_rate = np.sqrt(z.data / 75)\n"
     ]
    },
    {
     "name": "stdout",
     "output_type": "stream",
     "text": [
      "2019-03-22 16:14:45+00:00 20190322162020\n",
      "335.0\n",
      "Sweep for 0.5 degree radar scan: 0\n"
     ]
    },
    {
     "name": "stderr",
     "output_type": "stream",
     "text": [
      "/scratch/local/u1371671/1878577/ipykernel_1691042/29015199.py:70: RuntimeWarning: invalid value encountered in sqrt\n",
      "  p_rate = np.sqrt(z.data / 75)\n"
     ]
    },
    {
     "name": "stdout",
     "output_type": "stream",
     "text": [
      "2019-03-22 16:20:20+00:00 20190322162555\n",
      "335.0\n",
      "Sweep for 0.5 degree radar scan: 0\n"
     ]
    },
    {
     "name": "stderr",
     "output_type": "stream",
     "text": [
      "/scratch/local/u1371671/1878577/ipykernel_1691042/29015199.py:70: RuntimeWarning: invalid value encountered in sqrt\n",
      "  p_rate = np.sqrt(z.data / 75)\n"
     ]
    },
    {
     "name": "stdout",
     "output_type": "stream",
     "text": [
      "2019-03-22 16:25:55+00:00 20190322163131\n",
      "336.0\n",
      "Sweep for 0.5 degree radar scan: 0\n"
     ]
    },
    {
     "name": "stderr",
     "output_type": "stream",
     "text": [
      "/scratch/local/u1371671/1878577/ipykernel_1691042/29015199.py:70: RuntimeWarning: invalid value encountered in sqrt\n",
      "  p_rate = np.sqrt(z.data / 75)\n"
     ]
    },
    {
     "name": "stdout",
     "output_type": "stream",
     "text": [
      "2019-03-22 16:31:31+00:00 20190322163706\n",
      "335.0\n",
      "Sweep for 0.5 degree radar scan: 0\n"
     ]
    },
    {
     "name": "stderr",
     "output_type": "stream",
     "text": [
      "/scratch/local/u1371671/1878577/ipykernel_1691042/29015199.py:70: RuntimeWarning: invalid value encountered in sqrt\n",
      "  p_rate = np.sqrt(z.data / 75)\n"
     ]
    },
    {
     "name": "stdout",
     "output_type": "stream",
     "text": [
      "2019-03-22 16:37:06+00:00 20190322164241\n",
      "335.0\n",
      "Sweep for 0.5 degree radar scan: 0\n"
     ]
    },
    {
     "name": "stderr",
     "output_type": "stream",
     "text": [
      "/scratch/local/u1371671/1878577/ipykernel_1691042/29015199.py:70: RuntimeWarning: invalid value encountered in sqrt\n",
      "  p_rate = np.sqrt(z.data / 75)\n"
     ]
    },
    {
     "name": "stdout",
     "output_type": "stream",
     "text": [
      "2019-03-22 16:42:41+00:00 20190322164817\n",
      "336.0\n",
      "Sweep for 0.5 degree radar scan: 0\n"
     ]
    },
    {
     "name": "stderr",
     "output_type": "stream",
     "text": [
      "/scratch/local/u1371671/1878577/ipykernel_1691042/29015199.py:70: RuntimeWarning: invalid value encountered in sqrt\n",
      "  p_rate = np.sqrt(z.data / 75)\n"
     ]
    },
    {
     "name": "stdout",
     "output_type": "stream",
     "text": [
      "2019-03-22 16:48:17+00:00 20190322165407\n",
      "350.0\n",
      "Sweep for 0.5 degree radar scan: 0\n"
     ]
    },
    {
     "name": "stderr",
     "output_type": "stream",
     "text": [
      "/scratch/local/u1371671/1878577/ipykernel_1691042/29015199.py:70: RuntimeWarning: invalid value encountered in sqrt\n",
      "  p_rate = np.sqrt(z.data / 75)\n"
     ]
    },
    {
     "name": "stdout",
     "output_type": "stream",
     "text": [
      "2019-03-22 16:54:07+00:00 20190322165956\n",
      "349.0\n",
      "Sweep for 0.5 degree radar scan: 0\n"
     ]
    },
    {
     "name": "stderr",
     "output_type": "stream",
     "text": [
      "/scratch/local/u1371671/1878577/ipykernel_1691042/29015199.py:70: RuntimeWarning: invalid value encountered in sqrt\n",
      "  p_rate = np.sqrt(z.data / 75)\n"
     ]
    },
    {
     "name": "stdout",
     "output_type": "stream",
     "text": [
      "2019-03-22 16:59:56+00:00 20190322170547\n",
      "351.0\n",
      "Sweep for 0.5 degree radar scan: 0\n"
     ]
    },
    {
     "name": "stderr",
     "output_type": "stream",
     "text": [
      "/scratch/local/u1371671/1878577/ipykernel_1691042/29015199.py:70: RuntimeWarning: invalid value encountered in sqrt\n",
      "  p_rate = np.sqrt(z.data / 75)\n"
     ]
    },
    {
     "name": "stdout",
     "output_type": "stream",
     "text": [
      "2019-03-22 17:05:47+00:00 20190322171122\n",
      "335.0\n",
      "Sweep for 0.5 degree radar scan: 0\n"
     ]
    },
    {
     "name": "stderr",
     "output_type": "stream",
     "text": [
      "/scratch/local/u1371671/1878577/ipykernel_1691042/29015199.py:70: RuntimeWarning: invalid value encountered in sqrt\n",
      "  p_rate = np.sqrt(z.data / 75)\n"
     ]
    },
    {
     "name": "stdout",
     "output_type": "stream",
     "text": [
      "2019-03-22 17:11:22+00:00 20190322171656\n",
      "334.0\n",
      "Sweep for 0.5 degree radar scan: 0\n"
     ]
    },
    {
     "name": "stderr",
     "output_type": "stream",
     "text": [
      "/scratch/local/u1371671/1878577/ipykernel_1691042/29015199.py:70: RuntimeWarning: invalid value encountered in sqrt\n",
      "  p_rate = np.sqrt(z.data / 75)\n"
     ]
    },
    {
     "name": "stdout",
     "output_type": "stream",
     "text": [
      "2019-03-22 17:16:56+00:00 20190322172232\n",
      "336.0\n",
      "Sweep for 0.5 degree radar scan: 0\n"
     ]
    },
    {
     "name": "stderr",
     "output_type": "stream",
     "text": [
      "/scratch/local/u1371671/1878577/ipykernel_1691042/29015199.py:70: RuntimeWarning: invalid value encountered in sqrt\n",
      "  p_rate = np.sqrt(z.data / 75)\n"
     ]
    },
    {
     "name": "stdout",
     "output_type": "stream",
     "text": [
      "2019-03-22 17:22:32+00:00 20190322172807\n",
      "335.0\n",
      "Sweep for 0.5 degree radar scan: 0\n"
     ]
    },
    {
     "name": "stderr",
     "output_type": "stream",
     "text": [
      "/scratch/local/u1371671/1878577/ipykernel_1691042/29015199.py:70: RuntimeWarning: invalid value encountered in sqrt\n",
      "  p_rate = np.sqrt(z.data / 75)\n"
     ]
    },
    {
     "name": "stdout",
     "output_type": "stream",
     "text": [
      "2019-03-22 17:28:07+00:00 20190322173343\n",
      "336.0\n",
      "Sweep for 0.5 degree radar scan: 0\n"
     ]
    },
    {
     "name": "stderr",
     "output_type": "stream",
     "text": [
      "/scratch/local/u1371671/1878577/ipykernel_1691042/29015199.py:70: RuntimeWarning: invalid value encountered in sqrt\n",
      "  p_rate = np.sqrt(z.data / 75)\n"
     ]
    },
    {
     "name": "stdout",
     "output_type": "stream",
     "text": [
      "2019-03-22 17:33:43+00:00 20190322173918\n",
      "335.0\n",
      "Sweep for 0.5 degree radar scan: 0\n"
     ]
    },
    {
     "name": "stderr",
     "output_type": "stream",
     "text": [
      "/scratch/local/u1371671/1878577/ipykernel_1691042/29015199.py:70: RuntimeWarning: invalid value encountered in sqrt\n",
      "  p_rate = np.sqrt(z.data / 75)\n"
     ]
    },
    {
     "name": "stdout",
     "output_type": "stream",
     "text": [
      "2019-03-22 17:39:18+00:00 20190322174454\n",
      "336.0\n",
      "Sweep for 0.5 degree radar scan: 0\n"
     ]
    },
    {
     "name": "stderr",
     "output_type": "stream",
     "text": [
      "/scratch/local/u1371671/1878577/ipykernel_1691042/29015199.py:70: RuntimeWarning: invalid value encountered in sqrt\n",
      "  p_rate = np.sqrt(z.data / 75)\n"
     ]
    },
    {
     "name": "stdout",
     "output_type": "stream",
     "text": [
      "2019-03-22 17:44:54+00:00 20190322175029\n",
      "335.0\n",
      "Sweep for 0.5 degree radar scan: 0\n"
     ]
    },
    {
     "name": "stderr",
     "output_type": "stream",
     "text": [
      "/scratch/local/u1371671/1878577/ipykernel_1691042/29015199.py:70: RuntimeWarning: invalid value encountered in sqrt\n",
      "  p_rate = np.sqrt(z.data / 75)\n"
     ]
    },
    {
     "name": "stdout",
     "output_type": "stream",
     "text": [
      "2019-03-22 17:50:29+00:00 20190322175604\n",
      "335.0\n",
      "Sweep for 0.5 degree radar scan: 0\n"
     ]
    },
    {
     "name": "stderr",
     "output_type": "stream",
     "text": [
      "/scratch/local/u1371671/1878577/ipykernel_1691042/29015199.py:70: RuntimeWarning: invalid value encountered in sqrt\n",
      "  p_rate = np.sqrt(z.data / 75)\n"
     ]
    },
    {
     "name": "stdout",
     "output_type": "stream",
     "text": [
      "2019-03-22 17:56:04+00:00 20190322180139\n",
      "335.0\n",
      "Sweep for 0.5 degree radar scan: 0\n"
     ]
    },
    {
     "name": "stderr",
     "output_type": "stream",
     "text": [
      "/scratch/local/u1371671/1878577/ipykernel_1691042/29015199.py:70: RuntimeWarning: invalid value encountered in sqrt\n",
      "  p_rate = np.sqrt(z.data / 75)\n"
     ]
    },
    {
     "name": "stdout",
     "output_type": "stream",
     "text": [
      "2019-03-22 18:01:39+00:00 20190322180716\n",
      "337.0\n",
      "Sweep for 0.5 degree radar scan: 0\n"
     ]
    },
    {
     "name": "stderr",
     "output_type": "stream",
     "text": [
      "/scratch/local/u1371671/1878577/ipykernel_1691042/29015199.py:70: RuntimeWarning: invalid value encountered in sqrt\n",
      "  p_rate = np.sqrt(z.data / 75)\n"
     ]
    },
    {
     "name": "stdout",
     "output_type": "stream",
     "text": [
      "2019-03-22 18:07:16+00:00 20190322181250\n",
      "334.0\n",
      "Sweep for 0.5 degree radar scan: 0\n"
     ]
    },
    {
     "name": "stderr",
     "output_type": "stream",
     "text": [
      "/scratch/local/u1371671/1878577/ipykernel_1691042/29015199.py:70: RuntimeWarning: invalid value encountered in sqrt\n",
      "  p_rate = np.sqrt(z.data / 75)\n"
     ]
    },
    {
     "name": "stdout",
     "output_type": "stream",
     "text": [
      "2019-03-22 18:12:50+00:00 20190322181826\n",
      "336.0\n",
      "Sweep for 0.5 degree radar scan: 0\n"
     ]
    },
    {
     "name": "stderr",
     "output_type": "stream",
     "text": [
      "/scratch/local/u1371671/1878577/ipykernel_1691042/29015199.py:70: RuntimeWarning: invalid value encountered in sqrt\n",
      "  p_rate = np.sqrt(z.data / 75)\n"
     ]
    },
    {
     "name": "stdout",
     "output_type": "stream",
     "text": [
      "2019-03-22 18:18:26+00:00 20190322182401\n",
      "335.0\n",
      "Sweep for 0.5 degree radar scan: 0\n"
     ]
    },
    {
     "name": "stderr",
     "output_type": "stream",
     "text": [
      "/scratch/local/u1371671/1878577/ipykernel_1691042/29015199.py:70: RuntimeWarning: invalid value encountered in sqrt\n",
      "  p_rate = np.sqrt(z.data / 75)\n"
     ]
    },
    {
     "name": "stdout",
     "output_type": "stream",
     "text": [
      "2019-03-22 18:24:01+00:00 20190322182936\n",
      "335.0\n",
      "Sweep for 0.5 degree radar scan: 0\n"
     ]
    },
    {
     "name": "stderr",
     "output_type": "stream",
     "text": [
      "/scratch/local/u1371671/1878577/ipykernel_1691042/29015199.py:70: RuntimeWarning: invalid value encountered in sqrt\n",
      "  p_rate = np.sqrt(z.data / 75)\n"
     ]
    },
    {
     "name": "stdout",
     "output_type": "stream",
     "text": [
      "2019-03-22 18:29:36+00:00 20190322183512\n",
      "336.0\n",
      "Sweep for 0.5 degree radar scan: 0\n"
     ]
    },
    {
     "name": "stderr",
     "output_type": "stream",
     "text": [
      "/scratch/local/u1371671/1878577/ipykernel_1691042/29015199.py:70: RuntimeWarning: invalid value encountered in sqrt\n",
      "  p_rate = np.sqrt(z.data / 75)\n"
     ]
    },
    {
     "name": "stdout",
     "output_type": "stream",
     "text": [
      "2019-03-22 18:35:12+00:00 20190322184046\n",
      "334.0\n",
      "Sweep for 0.5 degree radar scan: 0\n"
     ]
    },
    {
     "name": "stderr",
     "output_type": "stream",
     "text": [
      "/scratch/local/u1371671/1878577/ipykernel_1691042/29015199.py:70: RuntimeWarning: invalid value encountered in sqrt\n",
      "  p_rate = np.sqrt(z.data / 75)\n"
     ]
    },
    {
     "name": "stdout",
     "output_type": "stream",
     "text": [
      "2019-03-22 18:40:46+00:00 20190322184622\n",
      "336.0\n",
      "Sweep for 0.5 degree radar scan: 0\n"
     ]
    },
    {
     "name": "stderr",
     "output_type": "stream",
     "text": [
      "/scratch/local/u1371671/1878577/ipykernel_1691042/29015199.py:70: RuntimeWarning: invalid value encountered in sqrt\n",
      "  p_rate = np.sqrt(z.data / 75)\n"
     ]
    },
    {
     "name": "stdout",
     "output_type": "stream",
     "text": [
      "2019-03-22 18:46:22+00:00 20190322185156\n",
      "334.0\n",
      "Sweep for 0.5 degree radar scan: 0\n"
     ]
    },
    {
     "name": "stderr",
     "output_type": "stream",
     "text": [
      "/scratch/local/u1371671/1878577/ipykernel_1691042/29015199.py:70: RuntimeWarning: invalid value encountered in sqrt\n",
      "  p_rate = np.sqrt(z.data / 75)\n"
     ]
    },
    {
     "name": "stdout",
     "output_type": "stream",
     "text": [
      "2019-03-22 18:51:56+00:00 20190322185732\n",
      "336.0\n",
      "Sweep for 0.5 degree radar scan: 0\n"
     ]
    },
    {
     "name": "stderr",
     "output_type": "stream",
     "text": [
      "/scratch/local/u1371671/1878577/ipykernel_1691042/29015199.py:70: RuntimeWarning: invalid value encountered in sqrt\n",
      "  p_rate = np.sqrt(z.data / 75)\n"
     ]
    },
    {
     "name": "stdout",
     "output_type": "stream",
     "text": [
      "2019-03-22 18:57:32+00:00 20190322190337\n",
      "365.0\n",
      "Sweep for 0.5 degree radar scan: 0\n"
     ]
    },
    {
     "name": "stderr",
     "output_type": "stream",
     "text": [
      "/scratch/local/u1371671/1878577/ipykernel_1691042/29015199.py:70: RuntimeWarning: invalid value encountered in sqrt\n",
      "  p_rate = np.sqrt(z.data / 75)\n"
     ]
    },
    {
     "name": "stdout",
     "output_type": "stream",
     "text": [
      "2019-03-22 19:03:37+00:00 20190322190927\n",
      "350.0\n",
      "Sweep for 0.5 degree radar scan: 0\n"
     ]
    },
    {
     "name": "stderr",
     "output_type": "stream",
     "text": [
      "/scratch/local/u1371671/1878577/ipykernel_1691042/29015199.py:70: RuntimeWarning: invalid value encountered in sqrt\n",
      "  p_rate = np.sqrt(z.data / 75)\n"
     ]
    },
    {
     "name": "stdout",
     "output_type": "stream",
     "text": [
      "2019-03-22 19:09:27+00:00 20190322191517\n",
      "350.0\n",
      "Sweep for 0.5 degree radar scan: 0\n"
     ]
    },
    {
     "name": "stderr",
     "output_type": "stream",
     "text": [
      "/scratch/local/u1371671/1878577/ipykernel_1691042/29015199.py:70: RuntimeWarning: invalid value encountered in sqrt\n",
      "  p_rate = np.sqrt(z.data / 75)\n"
     ]
    },
    {
     "name": "stdout",
     "output_type": "stream",
     "text": [
      "2019-03-22 19:15:17+00:00 20190322192121\n",
      "364.0\n",
      "Sweep for 0.5 degree radar scan: 0\n"
     ]
    },
    {
     "name": "stderr",
     "output_type": "stream",
     "text": [
      "/scratch/local/u1371671/1878577/ipykernel_1691042/29015199.py:70: RuntimeWarning: invalid value encountered in sqrt\n",
      "  p_rate = np.sqrt(z.data / 75)\n"
     ]
    },
    {
     "name": "stdout",
     "output_type": "stream",
     "text": [
      "2019-03-22 19:21:21+00:00 20190322192726\n",
      "365.0\n",
      "Sweep for 0.5 degree radar scan: 0\n"
     ]
    },
    {
     "name": "stderr",
     "output_type": "stream",
     "text": [
      "/scratch/local/u1371671/1878577/ipykernel_1691042/29015199.py:70: RuntimeWarning: invalid value encountered in sqrt\n",
      "  p_rate = np.sqrt(z.data / 75)\n"
     ]
    },
    {
     "name": "stdout",
     "output_type": "stream",
     "text": [
      "2019-03-22 19:27:26+00:00 20190322193330\n",
      "364.0\n",
      "Sweep for 0.5 degree radar scan: 0\n"
     ]
    },
    {
     "name": "stderr",
     "output_type": "stream",
     "text": [
      "/scratch/local/u1371671/1878577/ipykernel_1691042/29015199.py:70: RuntimeWarning: invalid value encountered in sqrt\n",
      "  p_rate = np.sqrt(z.data / 75)\n"
     ]
    },
    {
     "name": "stdout",
     "output_type": "stream",
     "text": [
      "2019-03-22 19:33:30+00:00 20190322193950\n",
      "380.0\n",
      "Sweep for 0.5 degree radar scan: 0\n"
     ]
    },
    {
     "name": "stderr",
     "output_type": "stream",
     "text": [
      "/scratch/local/u1371671/1878577/ipykernel_1691042/29015199.py:70: RuntimeWarning: invalid value encountered in sqrt\n",
      "  p_rate = np.sqrt(z.data / 75)\n"
     ]
    },
    {
     "name": "stdout",
     "output_type": "stream",
     "text": [
      "2019-03-22 19:39:50+00:00 20190322194610\n",
      "380.0\n",
      "Sweep for 0.5 degree radar scan: 0\n"
     ]
    },
    {
     "name": "stderr",
     "output_type": "stream",
     "text": [
      "/scratch/local/u1371671/1878577/ipykernel_1691042/29015199.py:70: RuntimeWarning: invalid value encountered in sqrt\n",
      "  p_rate = np.sqrt(z.data / 75)\n"
     ]
    },
    {
     "name": "stdout",
     "output_type": "stream",
     "text": [
      "2019-03-22 19:46:10+00:00 20190322195229\n",
      "379.0\n",
      "Sweep for 0.5 degree radar scan: 0\n"
     ]
    },
    {
     "name": "stderr",
     "output_type": "stream",
     "text": [
      "/scratch/local/u1371671/1878577/ipykernel_1691042/29015199.py:70: RuntimeWarning: invalid value encountered in sqrt\n",
      "  p_rate = np.sqrt(z.data / 75)\n"
     ]
    },
    {
     "name": "stdout",
     "output_type": "stream",
     "text": [
      "2019-03-22 19:52:29+00:00 20190322195849\n",
      "380.0\n",
      "Sweep for 0.5 degree radar scan: 0\n"
     ]
    },
    {
     "name": "stderr",
     "output_type": "stream",
     "text": [
      "/scratch/local/u1371671/1878577/ipykernel_1691042/29015199.py:70: RuntimeWarning: invalid value encountered in sqrt\n",
      "  p_rate = np.sqrt(z.data / 75)\n"
     ]
    },
    {
     "name": "stdout",
     "output_type": "stream",
     "text": [
      "2019-03-22 19:58:49+00:00 20190322200510\n",
      "381.0\n",
      "Sweep for 0.5 degree radar scan: 0\n"
     ]
    },
    {
     "name": "stderr",
     "output_type": "stream",
     "text": [
      "/scratch/local/u1371671/1878577/ipykernel_1691042/29015199.py:70: RuntimeWarning: invalid value encountered in sqrt\n",
      "  p_rate = np.sqrt(z.data / 75)\n"
     ]
    },
    {
     "name": "stdout",
     "output_type": "stream",
     "text": [
      "2019-03-22 20:05:10+00:00 20190322201132\n",
      "382.0\n",
      "Sweep for 0.5 degree radar scan: 0\n"
     ]
    },
    {
     "name": "stderr",
     "output_type": "stream",
     "text": [
      "/scratch/local/u1371671/1878577/ipykernel_1691042/29015199.py:70: RuntimeWarning: invalid value encountered in sqrt\n",
      "  p_rate = np.sqrt(z.data / 75)\n"
     ]
    },
    {
     "name": "stdout",
     "output_type": "stream",
     "text": [
      "2019-03-22 20:11:32+00:00 20190322201806\n",
      "394.0\n",
      "Sweep for 0.5 degree radar scan: 0\n"
     ]
    },
    {
     "name": "stderr",
     "output_type": "stream",
     "text": [
      "/scratch/local/u1371671/1878577/ipykernel_1691042/29015199.py:70: RuntimeWarning: invalid value encountered in sqrt\n",
      "  p_rate = np.sqrt(z.data / 75)\n"
     ]
    },
    {
     "name": "stdout",
     "output_type": "stream",
     "text": [
      "2019-03-22 20:18:06+00:00 20190322202426\n",
      "380.0\n",
      "Sweep for 0.5 degree radar scan: 0\n"
     ]
    },
    {
     "name": "stderr",
     "output_type": "stream",
     "text": [
      "/scratch/local/u1371671/1878577/ipykernel_1691042/29015199.py:70: RuntimeWarning: invalid value encountered in sqrt\n",
      "  p_rate = np.sqrt(z.data / 75)\n"
     ]
    },
    {
     "name": "stdout",
     "output_type": "stream",
     "text": [
      "2019-03-22 20:24:26+00:00 20190322203046\n",
      "380.0\n",
      "Sweep for 0.5 degree radar scan: 0\n"
     ]
    },
    {
     "name": "stderr",
     "output_type": "stream",
     "text": [
      "/scratch/local/u1371671/1878577/ipykernel_1691042/29015199.py:70: RuntimeWarning: invalid value encountered in sqrt\n",
      "  p_rate = np.sqrt(z.data / 75)\n"
     ]
    },
    {
     "name": "stdout",
     "output_type": "stream",
     "text": [
      "2019-03-22 20:30:46+00:00 20190322203706\n",
      "380.0\n",
      "Sweep for 0.5 degree radar scan: 0\n"
     ]
    },
    {
     "name": "stderr",
     "output_type": "stream",
     "text": [
      "/scratch/local/u1371671/1878577/ipykernel_1691042/29015199.py:70: RuntimeWarning: invalid value encountered in sqrt\n",
      "  p_rate = np.sqrt(z.data / 75)\n"
     ]
    },
    {
     "name": "stdout",
     "output_type": "stream",
     "text": [
      "2019-03-22 20:37:06+00:00 20190322204312\n",
      "366.0\n",
      "Sweep for 0.5 degree radar scan: 0\n"
     ]
    },
    {
     "name": "stderr",
     "output_type": "stream",
     "text": [
      "/scratch/local/u1371671/1878577/ipykernel_1691042/29015199.py:70: RuntimeWarning: invalid value encountered in sqrt\n",
      "  p_rate = np.sqrt(z.data / 75)\n"
     ]
    },
    {
     "name": "stdout",
     "output_type": "stream",
     "text": [
      "2019-03-22 20:43:12+00:00 20190322204918\n",
      "366.0\n",
      "Sweep for 0.5 degree radar scan: 0\n"
     ]
    },
    {
     "name": "stderr",
     "output_type": "stream",
     "text": [
      "/scratch/local/u1371671/1878577/ipykernel_1691042/29015199.py:70: RuntimeWarning: invalid value encountered in sqrt\n",
      "  p_rate = np.sqrt(z.data / 75)\n"
     ]
    },
    {
     "name": "stdout",
     "output_type": "stream",
     "text": [
      "2019-03-22 20:49:18+00:00 20190322205507\n",
      "349.0\n",
      "Sweep for 0.5 degree radar scan: 0\n"
     ]
    },
    {
     "name": "stderr",
     "output_type": "stream",
     "text": [
      "/scratch/local/u1371671/1878577/ipykernel_1691042/29015199.py:70: RuntimeWarning: invalid value encountered in sqrt\n",
      "  p_rate = np.sqrt(z.data / 75)\n"
     ]
    },
    {
     "name": "stdout",
     "output_type": "stream",
     "text": [
      "2019-03-22 20:55:07+00:00 20190322210059\n",
      "352.0\n",
      "Sweep for 0.5 degree radar scan: 0\n"
     ]
    },
    {
     "name": "stderr",
     "output_type": "stream",
     "text": [
      "/scratch/local/u1371671/1878577/ipykernel_1691042/29015199.py:70: RuntimeWarning: invalid value encountered in sqrt\n",
      "  p_rate = np.sqrt(z.data / 75)\n"
     ]
    },
    {
     "name": "stdout",
     "output_type": "stream",
     "text": [
      "2019-03-22 21:00:59+00:00 20190322210648\n",
      "349.0\n",
      "Sweep for 0.5 degree radar scan: 0\n"
     ]
    },
    {
     "name": "stderr",
     "output_type": "stream",
     "text": [
      "/scratch/local/u1371671/1878577/ipykernel_1691042/29015199.py:70: RuntimeWarning: invalid value encountered in sqrt\n",
      "  p_rate = np.sqrt(z.data / 75)\n"
     ]
    },
    {
     "name": "stdout",
     "output_type": "stream",
     "text": [
      "2019-03-22 21:06:48+00:00 20190322211223\n",
      "335.0\n",
      "Sweep for 0.5 degree radar scan: 0\n"
     ]
    },
    {
     "name": "stderr",
     "output_type": "stream",
     "text": [
      "/scratch/local/u1371671/1878577/ipykernel_1691042/29015199.py:70: RuntimeWarning: invalid value encountered in sqrt\n",
      "  p_rate = np.sqrt(z.data / 75)\n"
     ]
    },
    {
     "name": "stdout",
     "output_type": "stream",
     "text": [
      "2019-03-22 21:12:23+00:00 20190322211758\n",
      "335.0\n",
      "Sweep for 0.5 degree radar scan: 0\n"
     ]
    },
    {
     "name": "stderr",
     "output_type": "stream",
     "text": [
      "/scratch/local/u1371671/1878577/ipykernel_1691042/29015199.py:70: RuntimeWarning: invalid value encountered in sqrt\n",
      "  p_rate = np.sqrt(z.data / 75)\n"
     ]
    },
    {
     "name": "stdout",
     "output_type": "stream",
     "text": [
      "2019-03-22 21:17:58+00:00 20190322212334\n",
      "336.0\n",
      "Sweep for 0.5 degree radar scan: 0\n"
     ]
    },
    {
     "name": "stderr",
     "output_type": "stream",
     "text": [
      "/scratch/local/u1371671/1878577/ipykernel_1691042/29015199.py:70: RuntimeWarning: invalid value encountered in sqrt\n",
      "  p_rate = np.sqrt(z.data / 75)\n"
     ]
    },
    {
     "name": "stdout",
     "output_type": "stream",
     "text": [
      "2019-03-22 21:23:34+00:00 20190322212909\n",
      "335.0\n",
      "Sweep for 0.5 degree radar scan: 0\n"
     ]
    },
    {
     "name": "stderr",
     "output_type": "stream",
     "text": [
      "/scratch/local/u1371671/1878577/ipykernel_1691042/29015199.py:70: RuntimeWarning: invalid value encountered in sqrt\n",
      "  p_rate = np.sqrt(z.data / 75)\n"
     ]
    },
    {
     "name": "stdout",
     "output_type": "stream",
     "text": [
      "2019-03-22 21:29:09+00:00 20190322213444\n",
      "335.0\n",
      "Sweep for 0.5 degree radar scan: 0\n"
     ]
    },
    {
     "name": "stderr",
     "output_type": "stream",
     "text": [
      "/scratch/local/u1371671/1878577/ipykernel_1691042/29015199.py:70: RuntimeWarning: invalid value encountered in sqrt\n",
      "  p_rate = np.sqrt(z.data / 75)\n"
     ]
    },
    {
     "name": "stdout",
     "output_type": "stream",
     "text": [
      "2019-03-22 21:34:44+00:00 20190322214018\n",
      "334.0\n",
      "Sweep for 0.5 degree radar scan: 0\n"
     ]
    },
    {
     "name": "stderr",
     "output_type": "stream",
     "text": [
      "/scratch/local/u1371671/1878577/ipykernel_1691042/29015199.py:70: RuntimeWarning: invalid value encountered in sqrt\n",
      "  p_rate = np.sqrt(z.data / 75)\n"
     ]
    },
    {
     "name": "stdout",
     "output_type": "stream",
     "text": [
      "2019-03-22 21:40:18+00:00 20190322214553\n",
      "335.0\n",
      "Sweep for 0.5 degree radar scan: 0\n"
     ]
    },
    {
     "name": "stderr",
     "output_type": "stream",
     "text": [
      "/scratch/local/u1371671/1878577/ipykernel_1691042/29015199.py:70: RuntimeWarning: invalid value encountered in sqrt\n",
      "  p_rate = np.sqrt(z.data / 75)\n"
     ]
    },
    {
     "name": "stdout",
     "output_type": "stream",
     "text": [
      "2019-03-22 21:45:53+00:00 20190322215129\n",
      "336.0\n",
      "Sweep for 0.5 degree radar scan: 0\n"
     ]
    },
    {
     "name": "stderr",
     "output_type": "stream",
     "text": [
      "/scratch/local/u1371671/1878577/ipykernel_1691042/29015199.py:70: RuntimeWarning: invalid value encountered in sqrt\n",
      "  p_rate = np.sqrt(z.data / 75)\n"
     ]
    },
    {
     "name": "stdout",
     "output_type": "stream",
     "text": [
      "2019-03-22 21:51:29+00:00 20190322215719\n",
      "350.0\n",
      "Sweep for 0.5 degree radar scan: 0\n"
     ]
    },
    {
     "name": "stderr",
     "output_type": "stream",
     "text": [
      "/scratch/local/u1371671/1878577/ipykernel_1691042/29015199.py:70: RuntimeWarning: invalid value encountered in sqrt\n",
      "  p_rate = np.sqrt(z.data / 75)\n"
     ]
    },
    {
     "name": "stdout",
     "output_type": "stream",
     "text": [
      "2019-03-22 21:57:19+00:00 20190322220309\n",
      "350.0\n",
      "Sweep for 0.5 degree radar scan: 0\n"
     ]
    },
    {
     "name": "stderr",
     "output_type": "stream",
     "text": [
      "/scratch/local/u1371671/1878577/ipykernel_1691042/29015199.py:70: RuntimeWarning: invalid value encountered in sqrt\n",
      "  p_rate = np.sqrt(z.data / 75)\n"
     ]
    },
    {
     "name": "stdout",
     "output_type": "stream",
     "text": [
      "2019-03-22 22:03:09+00:00 20190322220845\n",
      "336.0\n",
      "Sweep for 0.5 degree radar scan: 0\n"
     ]
    },
    {
     "name": "stderr",
     "output_type": "stream",
     "text": [
      "/scratch/local/u1371671/1878577/ipykernel_1691042/29015199.py:70: RuntimeWarning: invalid value encountered in sqrt\n",
      "  p_rate = np.sqrt(z.data / 75)\n"
     ]
    },
    {
     "name": "stdout",
     "output_type": "stream",
     "text": [
      "2019-03-22 22:08:45+00:00 20190322221420\n",
      "335.0\n",
      "Sweep for 0.5 degree radar scan: 0\n"
     ]
    },
    {
     "name": "stderr",
     "output_type": "stream",
     "text": [
      "/scratch/local/u1371671/1878577/ipykernel_1691042/29015199.py:70: RuntimeWarning: invalid value encountered in sqrt\n",
      "  p_rate = np.sqrt(z.data / 75)\n"
     ]
    },
    {
     "name": "stdout",
     "output_type": "stream",
     "text": [
      "2019-03-22 22:14:20+00:00 20190322221955\n",
      "335.0\n",
      "Sweep for 0.5 degree radar scan: 0\n"
     ]
    },
    {
     "name": "stderr",
     "output_type": "stream",
     "text": [
      "/scratch/local/u1371671/1878577/ipykernel_1691042/29015199.py:70: RuntimeWarning: invalid value encountered in sqrt\n",
      "  p_rate = np.sqrt(z.data / 75)\n"
     ]
    },
    {
     "name": "stdout",
     "output_type": "stream",
     "text": [
      "2019-03-22 22:19:55+00:00 20190322222529\n",
      "334.0\n",
      "Sweep for 0.5 degree radar scan: 0\n"
     ]
    },
    {
     "name": "stderr",
     "output_type": "stream",
     "text": [
      "/scratch/local/u1371671/1878577/ipykernel_1691042/29015199.py:70: RuntimeWarning: invalid value encountered in sqrt\n",
      "  p_rate = np.sqrt(z.data / 75)\n"
     ]
    },
    {
     "name": "stdout",
     "output_type": "stream",
     "text": [
      "2019-03-22 22:25:29+00:00 20190322223106\n",
      "337.0\n",
      "Sweep for 0.5 degree radar scan: 0\n"
     ]
    },
    {
     "name": "stderr",
     "output_type": "stream",
     "text": [
      "/scratch/local/u1371671/1878577/ipykernel_1691042/29015199.py:70: RuntimeWarning: invalid value encountered in sqrt\n",
      "  p_rate = np.sqrt(z.data / 75)\n"
     ]
    },
    {
     "name": "stdout",
     "output_type": "stream",
     "text": [
      "2019-03-22 22:31:06+00:00 20190322223655\n",
      "349.0\n",
      "Sweep for 0.5 degree radar scan: 0\n"
     ]
    },
    {
     "name": "stderr",
     "output_type": "stream",
     "text": [
      "/scratch/local/u1371671/1878577/ipykernel_1691042/29015199.py:70: RuntimeWarning: invalid value encountered in sqrt\n",
      "  p_rate = np.sqrt(z.data / 75)\n"
     ]
    },
    {
     "name": "stdout",
     "output_type": "stream",
     "text": [
      "2019-03-22 22:36:55+00:00 20190322224230\n",
      "335.0\n",
      "Sweep for 0.5 degree radar scan: 0\n"
     ]
    },
    {
     "name": "stderr",
     "output_type": "stream",
     "text": [
      "/scratch/local/u1371671/1878577/ipykernel_1691042/29015199.py:70: RuntimeWarning: invalid value encountered in sqrt\n",
      "  p_rate = np.sqrt(z.data / 75)\n"
     ]
    },
    {
     "name": "stdout",
     "output_type": "stream",
     "text": [
      "2019-03-22 22:42:30+00:00 20190322225008\n",
      "458.0\n",
      "Sweep for 0.5 degree radar scan: 0\n"
     ]
    },
    {
     "name": "stderr",
     "output_type": "stream",
     "text": [
      "/scratch/local/u1371671/1878577/ipykernel_1691042/29015199.py:70: RuntimeWarning: invalid value encountered in sqrt\n",
      "  p_rate = np.sqrt(z.data / 75)\n"
     ]
    },
    {
     "name": "stdout",
     "output_type": "stream",
     "text": [
      "2019-03-22 22:50:08+00:00 20190322225543\n",
      "335.0\n",
      "Sweep for 0.5 degree radar scan: 0\n"
     ]
    },
    {
     "name": "stderr",
     "output_type": "stream",
     "text": [
      "/scratch/local/u1371671/1878577/ipykernel_1691042/29015199.py:70: RuntimeWarning: invalid value encountered in sqrt\n",
      "  p_rate = np.sqrt(z.data / 75)\n"
     ]
    },
    {
     "name": "stdout",
     "output_type": "stream",
     "text": [
      "2019-03-22 22:55:43+00:00 20190322230119\n",
      "336.0\n",
      "Sweep for 0.5 degree radar scan: 0\n"
     ]
    },
    {
     "name": "stderr",
     "output_type": "stream",
     "text": [
      "/scratch/local/u1371671/1878577/ipykernel_1691042/29015199.py:70: RuntimeWarning: invalid value encountered in sqrt\n",
      "  p_rate = np.sqrt(z.data / 75)\n"
     ]
    },
    {
     "name": "stdout",
     "output_type": "stream",
     "text": [
      "2019-03-22 23:01:19+00:00 20190322230654\n",
      "335.0\n",
      "Sweep for 0.5 degree radar scan: 0\n"
     ]
    },
    {
     "name": "stderr",
     "output_type": "stream",
     "text": [
      "/scratch/local/u1371671/1878577/ipykernel_1691042/29015199.py:70: RuntimeWarning: invalid value encountered in sqrt\n",
      "  p_rate = np.sqrt(z.data / 75)\n"
     ]
    },
    {
     "name": "stdout",
     "output_type": "stream",
     "text": [
      "2019-03-22 23:06:54+00:00 20190322231229\n",
      "335.0\n",
      "Sweep for 0.5 degree radar scan: 0\n"
     ]
    },
    {
     "name": "stderr",
     "output_type": "stream",
     "text": [
      "/scratch/local/u1371671/1878577/ipykernel_1691042/29015199.py:70: RuntimeWarning: invalid value encountered in sqrt\n",
      "  p_rate = np.sqrt(z.data / 75)\n"
     ]
    },
    {
     "name": "stdout",
     "output_type": "stream",
     "text": [
      "2019-03-22 23:12:29+00:00 20190322231805\n",
      "336.0\n",
      "Sweep for 0.5 degree radar scan: 0\n"
     ]
    },
    {
     "name": "stderr",
     "output_type": "stream",
     "text": [
      "/scratch/local/u1371671/1878577/ipykernel_1691042/29015199.py:70: RuntimeWarning: invalid value encountered in sqrt\n",
      "  p_rate = np.sqrt(z.data / 75)\n"
     ]
    },
    {
     "name": "stdout",
     "output_type": "stream",
     "text": [
      "2019-03-22 23:18:05+00:00 20190322232356\n",
      "351.0\n",
      "Sweep for 0.5 degree radar scan: 0\n"
     ]
    },
    {
     "name": "stderr",
     "output_type": "stream",
     "text": [
      "/scratch/local/u1371671/1878577/ipykernel_1691042/29015199.py:70: RuntimeWarning: invalid value encountered in sqrt\n",
      "  p_rate = np.sqrt(z.data / 75)\n"
     ]
    },
    {
     "name": "stdout",
     "output_type": "stream",
     "text": [
      "2019-03-22 23:23:56+00:00 20190322232947\n",
      "351.0\n",
      "Sweep for 0.5 degree radar scan: 0\n"
     ]
    },
    {
     "name": "stderr",
     "output_type": "stream",
     "text": [
      "/scratch/local/u1371671/1878577/ipykernel_1691042/29015199.py:70: RuntimeWarning: invalid value encountered in sqrt\n",
      "  p_rate = np.sqrt(z.data / 75)\n"
     ]
    },
    {
     "name": "stdout",
     "output_type": "stream",
     "text": [
      "2019-03-22 23:29:47+00:00 20190322233537\n",
      "350.0\n",
      "Sweep for 0.5 degree radar scan: 0\n"
     ]
    },
    {
     "name": "stderr",
     "output_type": "stream",
     "text": [
      "/scratch/local/u1371671/1878577/ipykernel_1691042/29015199.py:70: RuntimeWarning: invalid value encountered in sqrt\n",
      "  p_rate = np.sqrt(z.data / 75)\n"
     ]
    },
    {
     "name": "stdout",
     "output_type": "stream",
     "text": [
      "2019-03-22 23:35:37+00:00 20190322234142\n",
      "365.0\n",
      "Sweep for 0.5 degree radar scan: 0\n"
     ]
    },
    {
     "name": "stderr",
     "output_type": "stream",
     "text": [
      "/scratch/local/u1371671/1878577/ipykernel_1691042/29015199.py:70: RuntimeWarning: invalid value encountered in sqrt\n",
      "  p_rate = np.sqrt(z.data / 75)\n"
     ]
    },
    {
     "name": "stdout",
     "output_type": "stream",
     "text": [
      "2019-03-22 23:41:42+00:00 20190322234748\n",
      "366.0\n",
      "Sweep for 0.5 degree radar scan: 0\n"
     ]
    },
    {
     "name": "stderr",
     "output_type": "stream",
     "text": [
      "/scratch/local/u1371671/1878577/ipykernel_1691042/29015199.py:70: RuntimeWarning: invalid value encountered in sqrt\n",
      "  p_rate = np.sqrt(z.data / 75)\n"
     ]
    },
    {
     "name": "stdout",
     "output_type": "stream",
     "text": [
      "2019-03-22 23:47:48+00:00 20190322235353\n",
      "365.0\n",
      "Sweep for 0.5 degree radar scan: 0\n"
     ]
    },
    {
     "name": "stderr",
     "output_type": "stream",
     "text": [
      "/scratch/local/u1371671/1878577/ipykernel_1691042/29015199.py:70: RuntimeWarning: invalid value encountered in sqrt\n",
      "  p_rate = np.sqrt(z.data / 75)\n"
     ]
    },
    {
     "name": "stdout",
     "output_type": "stream",
     "text": [
      "2019-03-22 23:53:53+00:00 20190323000011\n",
      "378.0\n",
      "Sweep for 0.5 degree radar scan: 0\n"
     ]
    },
    {
     "name": "stderr",
     "output_type": "stream",
     "text": [
      "/scratch/local/u1371671/1878577/ipykernel_1691042/29015199.py:70: RuntimeWarning: invalid value encountered in sqrt\n",
      "  p_rate = np.sqrt(z.data / 75)\n"
     ]
    },
    {
     "name": "stdout",
     "output_type": "stream",
     "text": [
      "2019-03-23 00:00:11+00:00 20190323000616\n",
      "365.0\n",
      "Sweep for 0.5 degree radar scan: 0\n"
     ]
    },
    {
     "name": "stderr",
     "output_type": "stream",
     "text": [
      "/scratch/local/u1371671/1878577/ipykernel_1691042/29015199.py:70: RuntimeWarning: invalid value encountered in sqrt\n",
      "  p_rate = np.sqrt(z.data / 75)\n"
     ]
    },
    {
     "name": "stdout",
     "output_type": "stream",
     "text": [
      "2019-03-23 00:06:16+00:00 20190323001222\n",
      "366.0\n",
      "Sweep for 0.5 degree radar scan: 0\n"
     ]
    },
    {
     "name": "stderr",
     "output_type": "stream",
     "text": [
      "/scratch/local/u1371671/1878577/ipykernel_1691042/29015199.py:70: RuntimeWarning: invalid value encountered in sqrt\n",
      "  p_rate = np.sqrt(z.data / 75)\n"
     ]
    },
    {
     "name": "stdout",
     "output_type": "stream",
     "text": [
      "2019-03-23 00:12:22+00:00 20190323001826\n",
      "364.0\n",
      "Sweep for 0.5 degree radar scan: 0\n"
     ]
    },
    {
     "name": "stderr",
     "output_type": "stream",
     "text": [
      "/scratch/local/u1371671/1878577/ipykernel_1691042/29015199.py:70: RuntimeWarning: invalid value encountered in sqrt\n",
      "  p_rate = np.sqrt(z.data / 75)\n"
     ]
    },
    {
     "name": "stdout",
     "output_type": "stream",
     "text": [
      "2019-03-23 00:18:26+00:00 20190323002416\n",
      "350.0\n",
      "Sweep for 0.5 degree radar scan: 0\n"
     ]
    },
    {
     "name": "stderr",
     "output_type": "stream",
     "text": [
      "/scratch/local/u1371671/1878577/ipykernel_1691042/29015199.py:70: RuntimeWarning: invalid value encountered in sqrt\n",
      "  p_rate = np.sqrt(z.data / 75)\n"
     ]
    },
    {
     "name": "stdout",
     "output_type": "stream",
     "text": [
      "2019-03-23 00:24:16+00:00 20190323003006\n",
      "350.0\n",
      "Sweep for 0.5 degree radar scan: 0\n"
     ]
    },
    {
     "name": "stderr",
     "output_type": "stream",
     "text": [
      "/scratch/local/u1371671/1878577/ipykernel_1691042/29015199.py:70: RuntimeWarning: invalid value encountered in sqrt\n",
      "  p_rate = np.sqrt(z.data / 75)\n"
     ]
    },
    {
     "name": "stdout",
     "output_type": "stream",
     "text": [
      "2019-03-23 00:30:06+00:00 20190323003556\n",
      "350.0\n",
      "Sweep for 0.5 degree radar scan: 0\n"
     ]
    },
    {
     "name": "stderr",
     "output_type": "stream",
     "text": [
      "/scratch/local/u1371671/1878577/ipykernel_1691042/29015199.py:70: RuntimeWarning: invalid value encountered in sqrt\n",
      "  p_rate = np.sqrt(z.data / 75)\n"
     ]
    },
    {
     "name": "stdout",
     "output_type": "stream",
     "text": [
      "2019-03-23 00:35:56+00:00 20190323004132\n",
      "336.0\n",
      "Sweep for 0.5 degree radar scan: 0\n"
     ]
    },
    {
     "name": "stderr",
     "output_type": "stream",
     "text": [
      "/scratch/local/u1371671/1878577/ipykernel_1691042/29015199.py:70: RuntimeWarning: invalid value encountered in sqrt\n",
      "  p_rate = np.sqrt(z.data / 75)\n"
     ]
    },
    {
     "name": "stdout",
     "output_type": "stream",
     "text": [
      "2019-03-23 00:41:32+00:00 20190323004707\n",
      "335.0\n",
      "Sweep for 0.5 degree radar scan: 0\n"
     ]
    },
    {
     "name": "stderr",
     "output_type": "stream",
     "text": [
      "/scratch/local/u1371671/1878577/ipykernel_1691042/29015199.py:70: RuntimeWarning: invalid value encountered in sqrt\n",
      "  p_rate = np.sqrt(z.data / 75)\n"
     ]
    },
    {
     "name": "stdout",
     "output_type": "stream",
     "text": [
      "2019-03-23 00:47:07+00:00 20190323005243\n",
      "336.0\n",
      "Sweep for 0.5 degree radar scan: 0\n"
     ]
    },
    {
     "name": "stderr",
     "output_type": "stream",
     "text": [
      "/scratch/local/u1371671/1878577/ipykernel_1691042/29015199.py:70: RuntimeWarning: invalid value encountered in sqrt\n",
      "  p_rate = np.sqrt(z.data / 75)\n"
     ]
    },
    {
     "name": "stdout",
     "output_type": "stream",
     "text": [
      "2019-03-23 00:52:43+00:00 20190323005818\n",
      "335.0\n",
      "Sweep for 0.5 degree radar scan: 0\n"
     ]
    },
    {
     "name": "stderr",
     "output_type": "stream",
     "text": [
      "/scratch/local/u1371671/1878577/ipykernel_1691042/29015199.py:70: RuntimeWarning: invalid value encountered in sqrt\n",
      "  p_rate = np.sqrt(z.data / 75)\n"
     ]
    },
    {
     "name": "stdout",
     "output_type": "stream",
     "text": [
      "2019-03-23 00:58:18+00:00 20190323010353\n",
      "335.0\n",
      "Sweep for 0.5 degree radar scan: 0\n"
     ]
    },
    {
     "name": "stderr",
     "output_type": "stream",
     "text": [
      "/scratch/local/u1371671/1878577/ipykernel_1691042/29015199.py:70: RuntimeWarning: invalid value encountered in sqrt\n",
      "  p_rate = np.sqrt(z.data / 75)\n"
     ]
    },
    {
     "name": "stdout",
     "output_type": "stream",
     "text": [
      "2019-03-23 01:03:53+00:00 20190323010928\n",
      "335.0\n",
      "Sweep for 0.5 degree radar scan: 0\n"
     ]
    },
    {
     "name": "stderr",
     "output_type": "stream",
     "text": [
      "/scratch/local/u1371671/1878577/ipykernel_1691042/29015199.py:70: RuntimeWarning: invalid value encountered in sqrt\n",
      "  p_rate = np.sqrt(z.data / 75)\n"
     ]
    },
    {
     "name": "stdout",
     "output_type": "stream",
     "text": [
      "2019-03-23 01:09:28+00:00 20190323011503\n",
      "335.0\n",
      "Sweep for 0.5 degree radar scan: 0\n"
     ]
    },
    {
     "name": "stderr",
     "output_type": "stream",
     "text": [
      "/scratch/local/u1371671/1878577/ipykernel_1691042/29015199.py:70: RuntimeWarning: invalid value encountered in sqrt\n",
      "  p_rate = np.sqrt(z.data / 75)\n"
     ]
    },
    {
     "name": "stdout",
     "output_type": "stream",
     "text": [
      "2019-03-23 01:15:03+00:00 20190323012039\n",
      "336.0\n",
      "Sweep for 0.5 degree radar scan: 0\n"
     ]
    },
    {
     "name": "stderr",
     "output_type": "stream",
     "text": [
      "/scratch/local/u1371671/1878577/ipykernel_1691042/29015199.py:70: RuntimeWarning: invalid value encountered in sqrt\n",
      "  p_rate = np.sqrt(z.data / 75)\n"
     ]
    },
    {
     "name": "stdout",
     "output_type": "stream",
     "text": [
      "2019-03-23 01:20:39+00:00 20190323012614\n",
      "335.0\n",
      "Sweep for 0.5 degree radar scan: 0\n"
     ]
    },
    {
     "name": "stderr",
     "output_type": "stream",
     "text": [
      "/scratch/local/u1371671/1878577/ipykernel_1691042/29015199.py:70: RuntimeWarning: invalid value encountered in sqrt\n",
      "  p_rate = np.sqrt(z.data / 75)\n"
     ]
    },
    {
     "name": "stdout",
     "output_type": "stream",
     "text": [
      "2019-03-23 01:26:14+00:00 20190323013149\n",
      "335.0\n",
      "Sweep for 0.5 degree radar scan: 0\n"
     ]
    },
    {
     "name": "stderr",
     "output_type": "stream",
     "text": [
      "/scratch/local/u1371671/1878577/ipykernel_1691042/29015199.py:70: RuntimeWarning: invalid value encountered in sqrt\n",
      "  p_rate = np.sqrt(z.data / 75)\n"
     ]
    },
    {
     "name": "stdout",
     "output_type": "stream",
     "text": [
      "2019-03-23 01:31:49+00:00 20190323013724\n",
      "335.0\n",
      "Sweep for 0.5 degree radar scan: 0\n"
     ]
    },
    {
     "name": "stderr",
     "output_type": "stream",
     "text": [
      "/scratch/local/u1371671/1878577/ipykernel_1691042/29015199.py:70: RuntimeWarning: invalid value encountered in sqrt\n",
      "  p_rate = np.sqrt(z.data / 75)\n"
     ]
    },
    {
     "name": "stdout",
     "output_type": "stream",
     "text": [
      "2019-03-23 01:37:24+00:00 20190323014300\n",
      "336.0\n",
      "Sweep for 0.5 degree radar scan: 0\n"
     ]
    },
    {
     "name": "stderr",
     "output_type": "stream",
     "text": [
      "/scratch/local/u1371671/1878577/ipykernel_1691042/29015199.py:70: RuntimeWarning: invalid value encountered in sqrt\n",
      "  p_rate = np.sqrt(z.data / 75)\n"
     ]
    },
    {
     "name": "stdout",
     "output_type": "stream",
     "text": [
      "2019-03-23 01:43:00+00:00 20190323014835\n",
      "335.0\n",
      "Sweep for 0.5 degree radar scan: 0\n"
     ]
    },
    {
     "name": "stderr",
     "output_type": "stream",
     "text": [
      "/scratch/local/u1371671/1878577/ipykernel_1691042/29015199.py:70: RuntimeWarning: invalid value encountered in sqrt\n",
      "  p_rate = np.sqrt(z.data / 75)\n"
     ]
    },
    {
     "name": "stdout",
     "output_type": "stream",
     "text": [
      "2019-03-23 01:48:35+00:00 20190323015410\n",
      "335.0\n",
      "Sweep for 0.5 degree radar scan: 0\n"
     ]
    },
    {
     "name": "stderr",
     "output_type": "stream",
     "text": [
      "/scratch/local/u1371671/1878577/ipykernel_1691042/29015199.py:70: RuntimeWarning: invalid value encountered in sqrt\n",
      "  p_rate = np.sqrt(z.data / 75)\n"
     ]
    },
    {
     "name": "stdout",
     "output_type": "stream",
     "text": [
      "2019-03-23 01:54:10+00:00 20190323015946\n",
      "336.0\n",
      "Sweep for 0.5 degree radar scan: 0\n"
     ]
    },
    {
     "name": "stderr",
     "output_type": "stream",
     "text": [
      "/scratch/local/u1371671/1878577/ipykernel_1691042/29015199.py:70: RuntimeWarning: invalid value encountered in sqrt\n",
      "  p_rate = np.sqrt(z.data / 75)\n"
     ]
    },
    {
     "name": "stdout",
     "output_type": "stream",
     "text": [
      "2019-03-23 01:59:46+00:00 20190323020521\n",
      "335.0\n",
      "Sweep for 0.5 degree radar scan: 0\n"
     ]
    },
    {
     "name": "stderr",
     "output_type": "stream",
     "text": [
      "/scratch/local/u1371671/1878577/ipykernel_1691042/29015199.py:70: RuntimeWarning: invalid value encountered in sqrt\n",
      "  p_rate = np.sqrt(z.data / 75)\n"
     ]
    },
    {
     "name": "stdout",
     "output_type": "stream",
     "text": [
      "2019-03-23 02:05:21+00:00 20190323021056\n",
      "335.0\n",
      "Sweep for 0.5 degree radar scan: 0\n"
     ]
    },
    {
     "name": "stderr",
     "output_type": "stream",
     "text": [
      "/scratch/local/u1371671/1878577/ipykernel_1691042/29015199.py:70: RuntimeWarning: invalid value encountered in sqrt\n",
      "  p_rate = np.sqrt(z.data / 75)\n"
     ]
    },
    {
     "name": "stdout",
     "output_type": "stream",
     "text": [
      "2019-03-23 02:10:56+00:00 20190323021632\n",
      "336.0\n",
      "Sweep for 0.5 degree radar scan: 0\n"
     ]
    },
    {
     "name": "stderr",
     "output_type": "stream",
     "text": [
      "/scratch/local/u1371671/1878577/ipykernel_1691042/29015199.py:70: RuntimeWarning: invalid value encountered in sqrt\n",
      "  p_rate = np.sqrt(z.data / 75)\n"
     ]
    },
    {
     "name": "stdout",
     "output_type": "stream",
     "text": [
      "2019-03-23 02:16:32+00:00 20190323022207\n",
      "335.0\n",
      "Sweep for 0.5 degree radar scan: 0\n"
     ]
    },
    {
     "name": "stderr",
     "output_type": "stream",
     "text": [
      "/scratch/local/u1371671/1878577/ipykernel_1691042/29015199.py:70: RuntimeWarning: invalid value encountered in sqrt\n",
      "  p_rate = np.sqrt(z.data / 75)\n"
     ]
    },
    {
     "name": "stdout",
     "output_type": "stream",
     "text": [
      "2019-03-23 02:22:07+00:00 20190323022742\n",
      "335.0\n",
      "Sweep for 0.5 degree radar scan: 0\n"
     ]
    },
    {
     "name": "stderr",
     "output_type": "stream",
     "text": [
      "/scratch/local/u1371671/1878577/ipykernel_1691042/29015199.py:70: RuntimeWarning: invalid value encountered in sqrt\n",
      "  p_rate = np.sqrt(z.data / 75)\n"
     ]
    },
    {
     "name": "stdout",
     "output_type": "stream",
     "text": [
      "2019-03-23 02:27:42+00:00 20190323023317\n",
      "335.0\n",
      "Sweep for 0.5 degree radar scan: 0\n"
     ]
    },
    {
     "name": "stderr",
     "output_type": "stream",
     "text": [
      "/scratch/local/u1371671/1878577/ipykernel_1691042/29015199.py:70: RuntimeWarning: invalid value encountered in sqrt\n",
      "  p_rate = np.sqrt(z.data / 75)\n"
     ]
    },
    {
     "name": "stdout",
     "output_type": "stream",
     "text": [
      "2019-03-23 02:33:17+00:00 20190323023853\n",
      "336.0\n",
      "Sweep for 0.5 degree radar scan: 0\n"
     ]
    },
    {
     "name": "stderr",
     "output_type": "stream",
     "text": [
      "/scratch/local/u1371671/1878577/ipykernel_1691042/29015199.py:70: RuntimeWarning: invalid value encountered in sqrt\n",
      "  p_rate = np.sqrt(z.data / 75)\n"
     ]
    },
    {
     "name": "stdout",
     "output_type": "stream",
     "text": [
      "2019-03-23 02:38:53+00:00 20190323024427\n",
      "334.0\n",
      "Sweep for 0.5 degree radar scan: 0\n"
     ]
    },
    {
     "name": "stderr",
     "output_type": "stream",
     "text": [
      "/scratch/local/u1371671/1878577/ipykernel_1691042/29015199.py:70: RuntimeWarning: invalid value encountered in sqrt\n",
      "  p_rate = np.sqrt(z.data / 75)\n"
     ]
    },
    {
     "name": "stdout",
     "output_type": "stream",
     "text": [
      "2019-03-23 02:44:27+00:00 20190323025002\n",
      "335.0\n",
      "Sweep for 0.5 degree radar scan: 0\n"
     ]
    },
    {
     "name": "stderr",
     "output_type": "stream",
     "text": [
      "/scratch/local/u1371671/1878577/ipykernel_1691042/29015199.py:70: RuntimeWarning: invalid value encountered in sqrt\n",
      "  p_rate = np.sqrt(z.data / 75)\n"
     ]
    },
    {
     "name": "stdout",
     "output_type": "stream",
     "text": [
      "2019-03-23 02:50:02+00:00 20190323025537\n",
      "335.0\n",
      "Sweep for 0.5 degree radar scan: 0\n"
     ]
    },
    {
     "name": "stderr",
     "output_type": "stream",
     "text": [
      "/scratch/local/u1371671/1878577/ipykernel_1691042/29015199.py:70: RuntimeWarning: invalid value encountered in sqrt\n",
      "  p_rate = np.sqrt(z.data / 75)\n"
     ]
    },
    {
     "name": "stdout",
     "output_type": "stream",
     "text": [
      "2019-03-23 02:55:37+00:00 20190323030113\n",
      "336.0\n",
      "Sweep for 0.5 degree radar scan: 0\n"
     ]
    },
    {
     "name": "stderr",
     "output_type": "stream",
     "text": [
      "/scratch/local/u1371671/1878577/ipykernel_1691042/29015199.py:70: RuntimeWarning: invalid value encountered in sqrt\n",
      "  p_rate = np.sqrt(z.data / 75)\n"
     ]
    },
    {
     "name": "stdout",
     "output_type": "stream",
     "text": [
      "2019-03-23 03:01:13+00:00 20190323030648\n",
      "335.0\n",
      "Sweep for 0.5 degree radar scan: 0\n"
     ]
    },
    {
     "name": "stderr",
     "output_type": "stream",
     "text": [
      "/scratch/local/u1371671/1878577/ipykernel_1691042/29015199.py:70: RuntimeWarning: invalid value encountered in sqrt\n",
      "  p_rate = np.sqrt(z.data / 75)\n"
     ]
    },
    {
     "name": "stdout",
     "output_type": "stream",
     "text": [
      "2019-03-23 03:06:48+00:00 20190323031224\n",
      "336.0\n",
      "Sweep for 0.5 degree radar scan: 0\n"
     ]
    },
    {
     "name": "stderr",
     "output_type": "stream",
     "text": [
      "/scratch/local/u1371671/1878577/ipykernel_1691042/29015199.py:70: RuntimeWarning: invalid value encountered in sqrt\n",
      "  p_rate = np.sqrt(z.data / 75)\n"
     ]
    },
    {
     "name": "stdout",
     "output_type": "stream",
     "text": [
      "2019-03-23 03:12:24+00:00 20190323031800\n",
      "336.0\n",
      "Sweep for 0.5 degree radar scan: 0\n"
     ]
    },
    {
     "name": "stderr",
     "output_type": "stream",
     "text": [
      "/scratch/local/u1371671/1878577/ipykernel_1691042/29015199.py:70: RuntimeWarning: invalid value encountered in sqrt\n",
      "  p_rate = np.sqrt(z.data / 75)\n"
     ]
    },
    {
     "name": "stdout",
     "output_type": "stream",
     "text": [
      "2019-03-23 03:18:00+00:00 20190323032335\n",
      "335.0\n",
      "Sweep for 0.5 degree radar scan: 0\n"
     ]
    },
    {
     "name": "stderr",
     "output_type": "stream",
     "text": [
      "/scratch/local/u1371671/1878577/ipykernel_1691042/29015199.py:70: RuntimeWarning: invalid value encountered in sqrt\n",
      "  p_rate = np.sqrt(z.data / 75)\n"
     ]
    },
    {
     "name": "stdout",
     "output_type": "stream",
     "text": [
      "2019-03-23 03:23:35+00:00 20190323032910\n",
      "335.0\n",
      "Sweep for 0.5 degree radar scan: 0\n"
     ]
    },
    {
     "name": "stderr",
     "output_type": "stream",
     "text": [
      "/scratch/local/u1371671/1878577/ipykernel_1691042/29015199.py:70: RuntimeWarning: invalid value encountered in sqrt\n",
      "  p_rate = np.sqrt(z.data / 75)\n"
     ]
    },
    {
     "name": "stdout",
     "output_type": "stream",
     "text": [
      "2019-03-23 03:29:10+00:00 20190323033446\n",
      "336.0\n",
      "Sweep for 0.5 degree radar scan: 0\n"
     ]
    },
    {
     "name": "stderr",
     "output_type": "stream",
     "text": [
      "/scratch/local/u1371671/1878577/ipykernel_1691042/29015199.py:70: RuntimeWarning: invalid value encountered in sqrt\n",
      "  p_rate = np.sqrt(z.data / 75)\n"
     ]
    },
    {
     "name": "stdout",
     "output_type": "stream",
     "text": [
      "2019-03-23 03:34:46+00:00 20190323034021\n",
      "335.0\n",
      "Sweep for 0.5 degree radar scan: 0\n"
     ]
    },
    {
     "name": "stderr",
     "output_type": "stream",
     "text": [
      "/scratch/local/u1371671/1878577/ipykernel_1691042/29015199.py:70: RuntimeWarning: invalid value encountered in sqrt\n",
      "  p_rate = np.sqrt(z.data / 75)\n"
     ]
    },
    {
     "name": "stdout",
     "output_type": "stream",
     "text": [
      "2019-03-23 03:40:21+00:00 20190323034557\n",
      "336.0\n",
      "Sweep for 0.5 degree radar scan: 0\n"
     ]
    },
    {
     "name": "stderr",
     "output_type": "stream",
     "text": [
      "/scratch/local/u1371671/1878577/ipykernel_1691042/29015199.py:70: RuntimeWarning: invalid value encountered in sqrt\n",
      "  p_rate = np.sqrt(z.data / 75)\n"
     ]
    },
    {
     "name": "stdout",
     "output_type": "stream",
     "text": [
      "2019-03-23 03:45:57+00:00 20190323035132\n",
      "335.0\n",
      "Sweep for 0.5 degree radar scan: 0\n"
     ]
    },
    {
     "name": "stderr",
     "output_type": "stream",
     "text": [
      "/scratch/local/u1371671/1878577/ipykernel_1691042/29015199.py:70: RuntimeWarning: invalid value encountered in sqrt\n",
      "  p_rate = np.sqrt(z.data / 75)\n"
     ]
    },
    {
     "name": "stdout",
     "output_type": "stream",
     "text": [
      "2019-03-23 03:51:32+00:00 20190323035707\n",
      "335.0\n",
      "Sweep for 0.5 degree radar scan: 0\n"
     ]
    },
    {
     "name": "stderr",
     "output_type": "stream",
     "text": [
      "/scratch/local/u1371671/1878577/ipykernel_1691042/29015199.py:70: RuntimeWarning: invalid value encountered in sqrt\n",
      "  p_rate = np.sqrt(z.data / 75)\n"
     ]
    },
    {
     "name": "stdout",
     "output_type": "stream",
     "text": [
      "2019-03-23 03:57:07+00:00 20190323040242\n",
      "335.0\n",
      "Sweep for 0.5 degree radar scan: 0\n"
     ]
    },
    {
     "name": "stderr",
     "output_type": "stream",
     "text": [
      "/scratch/local/u1371671/1878577/ipykernel_1691042/29015199.py:70: RuntimeWarning: invalid value encountered in sqrt\n",
      "  p_rate = np.sqrt(z.data / 75)\n"
     ]
    },
    {
     "name": "stdout",
     "output_type": "stream",
     "text": [
      "2019-03-23 04:02:42+00:00 20190323040816\n",
      "334.0\n",
      "Sweep for 0.5 degree radar scan: 0\n"
     ]
    },
    {
     "name": "stderr",
     "output_type": "stream",
     "text": [
      "/scratch/local/u1371671/1878577/ipykernel_1691042/29015199.py:70: RuntimeWarning: invalid value encountered in sqrt\n",
      "  p_rate = np.sqrt(z.data / 75)\n"
     ]
    },
    {
     "name": "stdout",
     "output_type": "stream",
     "text": [
      "2019-03-23 04:08:16+00:00 20190323041352\n",
      "336.0\n",
      "Sweep for 0.5 degree radar scan: 0\n"
     ]
    },
    {
     "name": "stderr",
     "output_type": "stream",
     "text": [
      "/scratch/local/u1371671/1878577/ipykernel_1691042/29015199.py:70: RuntimeWarning: invalid value encountered in sqrt\n",
      "  p_rate = np.sqrt(z.data / 75)\n"
     ]
    },
    {
     "name": "stdout",
     "output_type": "stream",
     "text": [
      "2019-03-23 04:13:52+00:00 20190323041927\n",
      "335.0\n",
      "Sweep for 0.5 degree radar scan: 0\n"
     ]
    },
    {
     "name": "stderr",
     "output_type": "stream",
     "text": [
      "/scratch/local/u1371671/1878577/ipykernel_1691042/29015199.py:70: RuntimeWarning: invalid value encountered in sqrt\n",
      "  p_rate = np.sqrt(z.data / 75)\n"
     ]
    },
    {
     "name": "stdout",
     "output_type": "stream",
     "text": [
      "2019-03-23 04:19:27+00:00 20190323042503\n",
      "336.0\n",
      "Sweep for 0.5 degree radar scan: 0\n"
     ]
    },
    {
     "name": "stderr",
     "output_type": "stream",
     "text": [
      "/scratch/local/u1371671/1878577/ipykernel_1691042/29015199.py:70: RuntimeWarning: invalid value encountered in sqrt\n",
      "  p_rate = np.sqrt(z.data / 75)\n"
     ]
    },
    {
     "name": "stdout",
     "output_type": "stream",
     "text": [
      "2019-03-23 04:25:03+00:00 20190323043038\n",
      "335.0\n",
      "Sweep for 0.5 degree radar scan: 0\n"
     ]
    },
    {
     "name": "stderr",
     "output_type": "stream",
     "text": [
      "/scratch/local/u1371671/1878577/ipykernel_1691042/29015199.py:70: RuntimeWarning: invalid value encountered in sqrt\n",
      "  p_rate = np.sqrt(z.data / 75)\n"
     ]
    },
    {
     "name": "stdout",
     "output_type": "stream",
     "text": [
      "2019-03-23 04:30:38+00:00 20190323043613\n",
      "335.0\n",
      "Sweep for 0.5 degree radar scan: 0\n"
     ]
    },
    {
     "name": "stderr",
     "output_type": "stream",
     "text": [
      "/scratch/local/u1371671/1878577/ipykernel_1691042/29015199.py:70: RuntimeWarning: invalid value encountered in sqrt\n",
      "  p_rate = np.sqrt(z.data / 75)\n"
     ]
    },
    {
     "name": "stdout",
     "output_type": "stream",
     "text": [
      "2019-03-23 04:36:13+00:00 20190323044149\n",
      "336.0\n",
      "Sweep for 0.5 degree radar scan: 0\n"
     ]
    },
    {
     "name": "stderr",
     "output_type": "stream",
     "text": [
      "/scratch/local/u1371671/1878577/ipykernel_1691042/29015199.py:70: RuntimeWarning: invalid value encountered in sqrt\n",
      "  p_rate = np.sqrt(z.data / 75)\n"
     ]
    },
    {
     "name": "stdout",
     "output_type": "stream",
     "text": [
      "2019-03-23 04:41:49+00:00 20190323044723\n",
      "334.0\n",
      "Sweep for 0.5 degree radar scan: 0\n"
     ]
    },
    {
     "name": "stderr",
     "output_type": "stream",
     "text": [
      "/scratch/local/u1371671/1878577/ipykernel_1691042/29015199.py:70: RuntimeWarning: invalid value encountered in sqrt\n",
      "  p_rate = np.sqrt(z.data / 75)\n"
     ]
    },
    {
     "name": "stdout",
     "output_type": "stream",
     "text": [
      "2019-03-23 04:47:23+00:00 20190323045259\n",
      "336.0\n",
      "Sweep for 0.5 degree radar scan: 0\n"
     ]
    },
    {
     "name": "stderr",
     "output_type": "stream",
     "text": [
      "/scratch/local/u1371671/1878577/ipykernel_1691042/29015199.py:70: RuntimeWarning: invalid value encountered in sqrt\n",
      "  p_rate = np.sqrt(z.data / 75)\n"
     ]
    },
    {
     "name": "stdout",
     "output_type": "stream",
     "text": [
      "2019-03-23 04:52:59+00:00 20190323045834\n",
      "335.0\n",
      "Sweep for 0.5 degree radar scan: 0\n"
     ]
    },
    {
     "name": "stderr",
     "output_type": "stream",
     "text": [
      "/scratch/local/u1371671/1878577/ipykernel_1691042/29015199.py:70: RuntimeWarning: invalid value encountered in sqrt\n",
      "  p_rate = np.sqrt(z.data / 75)\n"
     ]
    },
    {
     "name": "stdout",
     "output_type": "stream",
     "text": [
      "2019-03-23 04:58:34+00:00 20190323050409\n",
      "335.0\n",
      "Sweep for 0.5 degree radar scan: 0\n"
     ]
    },
    {
     "name": "stderr",
     "output_type": "stream",
     "text": [
      "/scratch/local/u1371671/1878577/ipykernel_1691042/29015199.py:70: RuntimeWarning: invalid value encountered in sqrt\n",
      "  p_rate = np.sqrt(z.data / 75)\n"
     ]
    },
    {
     "name": "stdout",
     "output_type": "stream",
     "text": [
      "2019-03-23 05:04:09+00:00 20190323050945\n",
      "336.0\n",
      "Sweep for 0.5 degree radar scan: 0\n"
     ]
    },
    {
     "name": "stderr",
     "output_type": "stream",
     "text": [
      "/scratch/local/u1371671/1878577/ipykernel_1691042/29015199.py:70: RuntimeWarning: invalid value encountered in sqrt\n",
      "  p_rate = np.sqrt(z.data / 75)\n"
     ]
    },
    {
     "name": "stdout",
     "output_type": "stream",
     "text": [
      "2019-03-23 05:09:45+00:00 20190323051520\n",
      "335.0\n",
      "Sweep for 0.5 degree radar scan: 0\n"
     ]
    },
    {
     "name": "stderr",
     "output_type": "stream",
     "text": [
      "/scratch/local/u1371671/1878577/ipykernel_1691042/29015199.py:70: RuntimeWarning: invalid value encountered in sqrt\n",
      "  p_rate = np.sqrt(z.data / 75)\n"
     ]
    },
    {
     "name": "stdout",
     "output_type": "stream",
     "text": [
      "2019-03-23 05:15:20+00:00 20190323052055\n",
      "335.0\n",
      "Sweep for 0.5 degree radar scan: 0\n"
     ]
    },
    {
     "name": "stderr",
     "output_type": "stream",
     "text": [
      "/scratch/local/u1371671/1878577/ipykernel_1691042/29015199.py:70: RuntimeWarning: invalid value encountered in sqrt\n",
      "  p_rate = np.sqrt(z.data / 75)\n"
     ]
    },
    {
     "name": "stdout",
     "output_type": "stream",
     "text": [
      "2019-03-23 05:20:55+00:00 20190323052629\n",
      "334.0\n",
      "Sweep for 0.5 degree radar scan: 0\n"
     ]
    },
    {
     "name": "stderr",
     "output_type": "stream",
     "text": [
      "/scratch/local/u1371671/1878577/ipykernel_1691042/29015199.py:70: RuntimeWarning: invalid value encountered in sqrt\n",
      "  p_rate = np.sqrt(z.data / 75)\n"
     ]
    },
    {
     "name": "stdout",
     "output_type": "stream",
     "text": [
      "2019-03-23 05:26:29+00:00 20190323053205\n",
      "336.0\n",
      "Sweep for 0.5 degree radar scan: 0\n"
     ]
    },
    {
     "name": "stderr",
     "output_type": "stream",
     "text": [
      "/scratch/local/u1371671/1878577/ipykernel_1691042/29015199.py:70: RuntimeWarning: invalid value encountered in sqrt\n",
      "  p_rate = np.sqrt(z.data / 75)\n"
     ]
    },
    {
     "name": "stdout",
     "output_type": "stream",
     "text": [
      "2019-03-23 05:32:05+00:00 20190323053741\n",
      "336.0\n",
      "Sweep for 0.5 degree radar scan: 0\n"
     ]
    },
    {
     "name": "stderr",
     "output_type": "stream",
     "text": [
      "/scratch/local/u1371671/1878577/ipykernel_1691042/29015199.py:70: RuntimeWarning: invalid value encountered in sqrt\n",
      "  p_rate = np.sqrt(z.data / 75)\n"
     ]
    },
    {
     "name": "stdout",
     "output_type": "stream",
     "text": [
      "2019-03-23 05:37:41+00:00 20190323054315\n",
      "334.0\n",
      "Sweep for 0.5 degree radar scan: 0\n"
     ]
    },
    {
     "name": "stderr",
     "output_type": "stream",
     "text": [
      "/scratch/local/u1371671/1878577/ipykernel_1691042/29015199.py:70: RuntimeWarning: invalid value encountered in sqrt\n",
      "  p_rate = np.sqrt(z.data / 75)\n"
     ]
    },
    {
     "name": "stdout",
     "output_type": "stream",
     "text": [
      "2019-03-23 05:43:15+00:00 20190323054851\n",
      "336.0\n",
      "Sweep for 0.5 degree radar scan: 0\n"
     ]
    },
    {
     "name": "stderr",
     "output_type": "stream",
     "text": [
      "/scratch/local/u1371671/1878577/ipykernel_1691042/29015199.py:70: RuntimeWarning: invalid value encountered in sqrt\n",
      "  p_rate = np.sqrt(z.data / 75)\n"
     ]
    },
    {
     "name": "stdout",
     "output_type": "stream",
     "text": [
      "2019-03-23 05:48:51+00:00 20190323055425\n",
      "334.0\n",
      "Sweep for 0.5 degree radar scan: 0\n"
     ]
    },
    {
     "name": "stderr",
     "output_type": "stream",
     "text": [
      "/scratch/local/u1371671/1878577/ipykernel_1691042/29015199.py:70: RuntimeWarning: invalid value encountered in sqrt\n",
      "  p_rate = np.sqrt(z.data / 75)\n"
     ]
    },
    {
     "name": "stdout",
     "output_type": "stream",
     "text": [
      "2019-03-23 05:54:25+00:00 20190323060000\n",
      "335.0\n",
      "Sweep for 0.5 degree radar scan: 0\n"
     ]
    },
    {
     "name": "stderr",
     "output_type": "stream",
     "text": [
      "/scratch/local/u1371671/1878577/ipykernel_1691042/29015199.py:70: RuntimeWarning: invalid value encountered in sqrt\n",
      "  p_rate = np.sqrt(z.data / 75)\n"
     ]
    }
   ],
   "source": [
    "# Initialize the accumulation array to None, or an array of zeros if you know the shape in advance\n",
    "precipitation_accum_sum = None\n",
    "\n",
    "########### End of user inputs ############\n",
    "for i, f in enumerate(KMTX_files_event[0::]):\n",
    "\n",
    "    #### DO the NECESSARY PYART STUFF ########\n",
    "    radar = pyart.io.read_nexrad_archive(f)  # Read in file using pyart\n",
    "    radar_location = radar.metadata['instrument_name']  # Get the location of the radar - should be KMTX\n",
    "    \n",
    "    radar_prior = pyart.io.read_nexrad_archive(KMTX_files_event[i-1])\n",
    "\n",
    "    # Extract date and time for the radar, and create a string of them\n",
    "    date = radar.time['units'][14:].split('T')[0]\n",
    "    time = radar.time['units'][14:].split('T')[1]\n",
    "    \n",
    "    date_prior = radar_prior.time['units'][14:].split('T')[0]\n",
    "    time_prior = radar_prior.time['units'][14:].split('T')[1]\n",
    "    valid_time_prior = pd.to_datetime(date_prior + ' ' + time_prior)\n",
    "\n",
    "    valid_time_KMTX = date + ' ' + time\n",
    "    valid_time_dt = pd.to_datetime(valid_time_KMTX)\n",
    "    valid_time_save = valid_time_dt.strftime('%Y%m%d%H%M%S')\n",
    "    print(valid_time_prior, valid_time_save)\n",
    "    time_difference = valid_time_dt - valid_time_prior\n",
    "    time_diff_seconds = time_difference.total_seconds()# Convert to seconds\n",
    "    \n",
    "    # Hack for the first index having issues. just make it 335 seconds, similar to all the others\n",
    "    if time_diff_seconds < 0:\n",
    "        time_diff_seconds = 335.0\n",
    "    print(time_diff_seconds)\n",
    "\n",
    "    type_of_data = radar.metadata['original_container'] # Get type of data - should be NEXRAD Level II\n",
    "\n",
    "    radar_lat, radar_lon = radar.latitude['data'][0], radar.longitude['data'][0] # Get lat and lon of the radar\n",
    "\n",
    "    rad_altitude = radar.altitude['data'][0] # Get the altitude of the radar\n",
    "\n",
    "    for sweep, angle in enumerate(radar.fixed_angle['data']):        # Loop through sweeps\n",
    "        if np.round(angle, 1) == 0.5:                                # See if the given sweep is the 0.5 degree scan\n",
    "            print('Sweep for 0.5 degree radar scan: ' + str(sweep))\n",
    "            break                                                    # Stop the loop at the 0.5 deg scan\n",
    "\n",
    "    # Get the slice at the sweep\n",
    "    sweep_slice = radar.get_slice(sweep)\n",
    "\n",
    "    # grab radar data \n",
    "    z = radar.get_field(sweep, field)\n",
    "\n",
    "    # extract lat lons \n",
    "    lon = radar.gate_longitude['data'][sweep_slice, :]\n",
    "    lat = radar.gate_latitude['data'][sweep_slice, :]\n",
    "\n",
    "    # get the range and time\n",
    "    ranges = radar.range[\"data\"]\n",
    "    time = radar.time[\"data\"]\n",
    "\n",
    "    # get azimuth\n",
    "    az = radar.azimuth['data'][sweep_slice]\n",
    "    # get order of azimuths \n",
    "    az_ids = np.argsort(az)\n",
    "\n",
    "    # reorder azs so they are in order \n",
    "    az = az[az_ids]\n",
    "    z = z[az_ids]\n",
    "    lon = lon[az_ids]\n",
    "    lat = lat[az_ids]\n",
    "    time = time[az_ids]\n",
    "    \n",
    "    p_rate = np.sqrt(z.data / 75)\n",
    "    \n",
    "    precipitation_accum_time = (p_rate / 3600) * time_diff_seconds # convert to mm/second and multiply my number of seconds\n",
    "    #print(lon)\n",
    "    #print(precipitation_accum_time_mm)\n",
    "    \n",
    "    precipitation_accum_time = np.where(np.isnan(precipitation_accum_time), 0, precipitation_accum_time)\n",
    "    \n",
    "    # If this is the first iteration, initialize the accumulation array\n",
    "    if precipitation_accum_sum is None:\n",
    "        precipitation_accum_sum = precipitation_accum_time.copy()\n",
    "    else:\n",
    "        # Sum the precipitation for this time step to the accumulation array\n",
    "        precipitation_accum_sum += precipitation_accum_time\n",
    "\n",
    "\n",
    "\n",
    "\n"
   ]
  },
  {
   "cell_type": "code",
   "execution_count": 6,
   "id": "b481b4bb-d189-40ff-847e-120c04832ec1",
   "metadata": {},
   "outputs": [
    {
     "name": "stderr",
     "output_type": "stream",
     "text": [
      "/scratch/local/u1371671/1878577/ipykernel_1691042/3416821847.py:7: MatplotlibDeprecationWarning: The get_cmap function was deprecated in Matplotlib 3.7 and will be removed two minor releases later. Use ``matplotlib.colormaps[name]`` or ``matplotlib.colormaps.get_cmap(obj)`` instead.\n",
      "  cmap = matplotlib.cm.get_cmap('pyart_HomeyerRainbow')\n"
     ]
    }
   ],
   "source": [
    "########################################\n",
    "# For testing crazy wrf9 values\n",
    "# Comment out if not testing\n",
    "levels = [1,2,3,4,5,6,7,9,11,13,15,18,]\n",
    "#levels = np.arange(1, 36, 2)\n",
    "import matplotlib\n",
    "cmap = matplotlib.cm.get_cmap('pyart_HomeyerRainbow')\n",
    "vals = np.linspace(0,1,len(levels))\n",
    "cols = [cmap(val) for val in vals]\n",
    "########################################"
   ]
  },
  {
   "cell_type": "code",
   "execution_count": 11,
   "id": "2d6054e4-52c6-488c-8665-8396aa5c77f8",
   "metadata": {},
   "outputs": [],
   "source": [
    "start_time_save = datetime.datetime(2019,3,22,12).strftime('%Y%m%d%H%M') \n",
    "end_time_save = datetime.datetime(2019,3,23,6).strftime('%Y%m%d%H%M')\n",
    "domain = 3\n",
    "accumulation_time_hours = 18"
   ]
  },
  {
   "cell_type": "code",
   "execution_count": 12,
   "id": "98b8c5fc-4c8e-40db-8deb-0a386e763bf4",
   "metadata": {},
   "outputs": [],
   "source": [
    "save_path = Fig_dir + 'WRF_Accum_Precip_d{:02}_{:02}h_{}_{}.png'.format(domain, np.round(accumulation_time_hours, 1), start_time_save, end_time_save)"
   ]
  },
  {
   "cell_type": "code",
   "execution_count": 13,
   "id": "51062d2b-0581-42d9-8464-9a06d5c18031",
   "metadata": {},
   "outputs": [
    {
     "data": {
      "image/png": "[encoded data removed]",
      "text/plain": [
       "<Figure size 800x600 with 2 Axes>"
      ]
     },
     "metadata": {},
     "output_type": "display_data"
    }
   ],
   "source": [
    "# Plotting\n",
    "# Create figure and axis\n",
    "fig, (ax1) = plt.subplots(1,1,figsize = (8, 6), subplot_kw= {'projection' : ccrs.PlateCarree()}, facecolor = 'white', edgecolor = 'k')\n",
    "\n",
    "# Plot Reflectivity data\n",
    "plot = ax1.contourf(lon, lat, precipitation_accum_sum, levels = levels, colors = cols, zorder = 15)\n",
    "\n",
    "# Plot Lakes\n",
    "ax1.add_geometries(lakes_gdf.geometry, ccrs.PlateCarree(), zorder = 150, facecolor='none',\n",
    "            edgecolor = 'black', linewidth = 2.5)\n",
    "\n",
    "# Plot Topography\n",
    "contour = ax1.contour(lons,lats, topo, zorder = 100, levels = topo_levels, cmap = 'binary', linewidths = 1.3, )#colors = 'black',)\n",
    "\n",
    "# Titles\n",
    "ax1.set_title('Valid: ' + datetime.datetime(2019,3,22,12).strftime('%Y%m%d%H%M') \n",
    "              + ' - ' + datetime.datetime(2019,3,23,6).strftime('%Y%m%d%H%M') + '\\n' +\n",
    "              radar_location +' Accumulated Precipitation', loc = 'center')\n",
    "#ax1.set_title(radar_location + ' ' + type_of_data + ' Composite Reflectivity', loc = 'left')\n",
    "# ax1.set_title(, loc = 'left')\n",
    "\n",
    "# Set limits\n",
    "ax1.set_xlim(-113, -111)\n",
    "ax1.set_ylim(39.9, 41.5)\n",
    "\n",
    "# Add colorbar\n",
    "# cax = plt.axes([0.19,0.06, 0.65, 0.03])\n",
    "# cb = plt.colorbar(plot, cax = cax, pad=0.01, aspect=40, extend='max', shrink=0.5, orientation = 'horizontal')\n",
    "# cb.ax.tick_params(length=8, width=.25, pad=0.01)\n",
    "# cb.set_label('Accumulated Precipitation (mm)', labelpad=8, y=0.5, fontsize = 14)\n",
    "# #cb.ax.set_xticks(np.arange(0, 10+.01, 4).astype(int), labels = np.arange(0, 32+.01, 4).astype(str), fontsize=14)\n",
    "\n",
    "fsize = 12\n",
    "\n",
    "# Colorbar stuff\n",
    "cb = plt.colorbar(plot, ax=ax1, shrink=.6, pad=0.02, drawedges=True, orientation='horizontal', ticks = levels)\n",
    "cb.ax.tick_params(labelsize=fsize)\n",
    "cb.set_label(\"Accumulated Precipitation (mm)\", fontsize=fsize)\n",
    "\n",
    "\n",
    "\n",
    "plt.savefig(save_path, dpi = 200, bbox_inches = 'tight')\n",
    "plt.show()\n",
    "plt.close()"
   ]
  }
 ],
 "metadata": {
  "kernelspec": {
   "display_name": "Radar_env_3",
   "language": "python",
   "name": "radar_env_2"
  },
  "language_info": {
   "codemirror_mode": {
    "name": "ipython",
    "version": 3
   },
   "file_extension": ".py",
   "mimetype": "text/x-python",
   "name": "python",
   "nbconvert_exporter": "python",
   "pygments_lexer": "ipython3",
   "version": "3.8.16"
  }
 },
 "nbformat": 4,
 "nbformat_minor": 5
}
